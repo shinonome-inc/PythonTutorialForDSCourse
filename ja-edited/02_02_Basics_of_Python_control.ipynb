{
 "cells": [
  {
   "cell_type": "markdown",
   "id": "80fd6c81",
   "metadata": {
    "colab_type": "text",
    "id": "zTYLayT3qEzA"
   },
   "source": [
    "## 制御構文\n",
    "\n",
    "複雑なプログラムを記述しようとすると、繰り返しの処理や、条件によって動作を変える処理が必要となります。\n",
    "これらは**制御構文**を用いて記述します。\n",
    "\n",
    "ここでは最も基本的な制御構文を 2 つ紹介します。\n",
    "\n",
    "- 繰り返し (`for`, `while`)\n",
    "- 条件分岐 (`if`)\n",
    "\n",
    "Python の制御構文は、**ヘッダ (header)** と **ブロック (block)** と呼ばれる 2 つの部分で構成されています。\n",
    "これらを合わせて **複合文 (compound statement)** と呼びます。\n",
    "\n",
    "![ヘッダーとブロック](images/02/02_05.png)"
   ]
  },
  {
   "cell_type": "markdown",
   "id": "22a8717a",
   "metadata": {
    "colab_type": "text",
    "id": "ciZc5_PCv9dJ"
   },
   "source": [
    "上図に示すように、制御構文ではヘッダ行に `for` 文や `if-else` 句を記述し、行末に `:` 記号を書きます。次に、ヘッダ行の条件で実行したい一連の処理文を、ブロックとしてその次の行以降に記述していきます。その際、 **インデント (indent)** と呼ばれる空白文字を先頭に挿入することで、ブロックを表現します。同じ数の空白でインデントされた文がブロックとみなされます。\n",
    "Python では、インデントとして**スペース 4 つ**を用いることが推奨されています。"
   ]
  },
  {
   "cell_type": "markdown",
   "id": "73069d3c",
   "metadata": {
    "colab_type": "text",
    "id": "oELnTpERNwCQ"
   },
   "source": [
    "### 繰り返し（for 文）\n",
    "\n",
    "同じ内容のメールを宛名だけ個別に変えて、1000 人に一斉送信したい場合など、繰り返す処理を記述する制御構文である `for` を使います。\n",
    "\n",
    "![for文](images/02/02_06.png)"
   ]
  },
  {
   "cell_type": "markdown",
   "id": "f2fd3940",
   "metadata": {
    "colab_type": "text",
    "id": "_-50XwKOv9dJ"
   },
   "source": [
    "`for` 文の文法は上図のとおりです。\n",
    "\n",
    "**イテラブルオブジェクト (iterable object)** とは、反復可能オブジェクトのことであり、要素を一度に 1 つずつ返せるオブジェクトのことを指します。\n",
    "`range()` という組み込み関数を使うと、引数に与えた整数の回数だけ順番に整数を返すイテラブルオブジェクトを作ることができます。\n",
    "`range(5)` と書くと、0, 1, 2, 3, 4 という整数 5 つを順番に返すイテラブルオブジェクトになります。\n",
    "\n",
    "後述しますが、このイテラブルオブジェクトとして、リストやタプルも指定することができます。"
   ]
  },
  {
   "cell_type": "code",
   "execution_count": null,
   "id": "91bccc67",
   "metadata": {
    "colab": {
     "base_uri": "https://localhost:8080/",
     "height": 106
    },
    "colab_type": "code",
    "id": "f7Y4APgkON_7",
    "outputId": "8d3fedd9-b0af-4cf4-ec66-bffb78ce9569"
   },
   "outputs": [],
   "source": [
    "# 5回繰り返す\n",
    "for i in range(5):\n",
    "    print(i)"
   ]
  },
  {
   "attachments": {},
   "cell_type": "markdown",
   "id": "2877b5aa",
   "metadata": {
    "colab_type": "text",
    "id": "oLpTgIv4OPnt"
   },
   "source": [
    "上記の例では、イテラブルオブジェクトが1 つずつ返す値を変数 `i` で受け取っています。\n",
    "最初は `i = 0` から始まっていることに注意してください。\n",
    "最後の値も、`5` ではなく `4` となっています。\n",
    "このように、`range()` に 1 つの整数 `n` を与えた場合は、`0` から `n - 1` までの整数を順番に返します。"
   ]
  },
  {
   "cell_type": "code",
   "execution_count": null,
   "id": "aeb3d1ad",
   "metadata": {
    "colab": {
     "base_uri": "https://localhost:8080/",
     "height": 35
    },
    "colab_type": "code",
    "id": "SUTjSLuKv9dK",
    "outputId": "be21ab95-21c5-4a56-8e73-35f157f13954"
   },
   "outputs": [],
   "source": [
    "# 繰り返し処理が終わった後の値の確認\n",
    "i"
   ]
  },
  {
   "cell_type": "markdown",
   "id": "0eb4e892",
   "metadata": {
    "colab_type": "text",
    "id": "4sMmj2Ewv9dL"
   },
   "source": [
    "Jupyter Notebook では変数名をコードセルの最後の行に書いて実行するとその変数に代入されている値を確認できましたが、for 文の中のブロックでは明示的に `print()` を使う必要があります。\n",
    "`print()` を用いないと、以下のように何も表示されません。"
   ]
  },
  {
   "cell_type": "code",
   "execution_count": null,
   "id": "7a25b261",
   "metadata": {
    "colab": {},
    "colab_type": "code",
    "id": "2SlR9vcGv9dL"
   },
   "outputs": [],
   "source": [
    "# 変数の値は表示されない\n",
    "for i in range(5):\n",
    "    i"
   ]
  },
  {
   "cell_type": "markdown",
   "id": "dfc7c3eb",
   "metadata": {
    "colab_type": "text",
    "id": "tEczQdb9v9dM"
   },
   "source": [
    "for 文を使って、0 から始まって 1 ずつ大きくなっていく整数順に取得し、これをリストのインデックスに利用すれば、リストの各要素に順番にアクセスすることができます。"
   ]
  },
  {
   "cell_type": "code",
   "execution_count": null,
   "id": "2e04b8e4",
   "metadata": {
    "colab": {
     "base_uri": "https://localhost:8080/",
     "height": 70
    },
    "colab_type": "code",
    "id": "b6XXuQ_gOnxk",
    "outputId": "ad85251e-4bcf-4b1f-c9d0-0aead91f025e"
   },
   "outputs": [],
   "source": [
    "names = ['佐藤', '鈴木', '高橋']\n",
    "\n",
    "for i in range(3):\n",
    "    print(names[i])"
   ]
  },
  {
   "cell_type": "markdown",
   "id": "9fc42a5e",
   "metadata": {
    "colab_type": "text",
    "id": "msGhS1ISv9dN"
   },
   "source": [
    "つぎに、さらに汎用性の高いプログラムを目指します。\n",
    "\n",
    "上記のコードに関して、汎用性が低い点として、`range(3)` のように `3` という値を直接記述していることが挙げられます。\n",
    "この `3` はリストの要素の数を意味していますが、リストの要素の数が変わると、このプログラムも書き換える必要があり、手間がかかったり、ミスが発生する原因となったりします。\n",
    "\n",
    "リスト内の要素の数は、組み込み関数である `len()` を用いて取得できるため、これを使用した汎用性の高いプログラムに書き換えましょう。"
   ]
  },
  {
   "cell_type": "code",
   "execution_count": null,
   "id": "cac58b12",
   "metadata": {
    "colab": {
     "base_uri": "https://localhost:8080/",
     "height": 35
    },
    "colab_type": "code",
    "id": "e4gbC4CIOzve",
    "outputId": "b5472139-d75b-46ac-de43-4ab365a4d14c"
   },
   "outputs": [],
   "source": [
    "len(names)"
   ]
  },
  {
   "cell_type": "code",
   "execution_count": null,
   "id": "dd45cb16",
   "metadata": {
    "colab": {
     "base_uri": "https://localhost:8080/",
     "height": 70
    },
    "colab_type": "code",
    "id": "4i21QYMwPB1C",
    "outputId": "0dffef88-45d8-4025-c5bd-75a333a70e0c"
   },
   "outputs": [],
   "source": [
    "for i in range(len(names)):\n",
    "    print('{}さん'.format(names[i]))"
   ]
  },
  {
   "cell_type": "markdown",
   "id": "b5787bcc",
   "metadata": {
    "colab_type": "text",
    "id": "9wx-qJovPEC0"
   },
   "source": [
    "これでリストの要素数に依存しないプログラムにすることができました。"
   ]
  },
  {
   "attachments": {},
   "cell_type": "markdown",
   "id": "206f9df5",
   "metadata": {
    "colab_type": "text",
    "id": "KIO9gkUnv9dR"
   },
   "source": [
    "また、リスト自体をイテラブルオブジェクトとして指定することにより、リスト要素数の取得も `[]` でのインデックス番号の指定もせずに、より可読性の高いプログラムを書くことができます。"
   ]
  },
  {
   "cell_type": "code",
   "execution_count": null,
   "id": "c6426074",
   "metadata": {
    "colab": {
     "base_uri": "https://localhost:8080/",
     "height": 70
    },
    "colab_type": "code",
    "id": "EDqeGWucv9dR",
    "outputId": "261c1319-2e24-474f-f283-0d3352e24a27"
   },
   "outputs": [],
   "source": [
    "# リストをイテラブルオブジェクトに指定\n",
    "for name in names:\n",
    "    print('{}さん'.format(name))"
   ]
  },
  {
   "attachments": {},
   "cell_type": "markdown",
   "id": "989d4d42",
   "metadata": {
    "colab_type": "text",
    "id": "iWEhrw_9v9dS"
   },
   "source": [
    "最初のケースと比べていかがでしょうか。\n",
    "動作は変わりませんが「名簿 (`names`) から名前 (`name`) を順に取り出している」ことが伝わりやすくなり、可読性が向上しています。\n",
    "\n",
    "今回のイテラブルオブジェクトの `names` は単純な構造でしたが、辞書やリストなどが複雑に組み合わさっている場合は、\n",
    "このような工夫により可読性を意識することが重要です。"
   ]
  },
  {
   "cell_type": "markdown",
   "id": "c1e906ab",
   "metadata": {
    "colab_type": "text",
    "id": "eeTHJ3hzPW7U"
   },
   "source": [
    "リストをイテラブルオブジェクトとして指定した場合、要素番号を取得できませんが、状況によっては要素番号を使用したいことがあります。\n",
    "\n",
    "そのような場合は、`enumerate()` という組み込み関数を使います。\n",
    "これにイテラブルオブジェクトを渡すと、`(要素番号, 要素)` というタプルを 1 つずつ返すイテラブルオブジェクトになります。"
   ]
  },
  {
   "cell_type": "code",
   "execution_count": null,
   "id": "eac88bcd",
   "metadata": {
    "colab": {
     "base_uri": "https://localhost:8080/",
     "height": 70
    },
    "colab_type": "code",
    "id": "8dT-qUhGv9dT",
    "outputId": "6cdbe801-9f59-49c4-96e6-6d3c54da2e04"
   },
   "outputs": [],
   "source": [
    "for i, name in enumerate(names):\n",
    "    message = '{}番目: {}さん'.format(i, name)\n",
    "    print(message)"
   ]
  },
  {
   "cell_type": "markdown",
   "id": "392ced51",
   "metadata": {
    "colab_type": "text",
    "id": "wGwCa9wmP2r4"
   },
   "source": [
    "`enumerate()` と同様、`for` 文と合わせてよく使う組み込み関数に `zip()` があります。\n",
    "\n",
    "`zip()` は、複数のイテラブルオブジェクトを受け取り、その要素のペアを順番に返すイテラブルオブジェクトを作ります。\n",
    "このイテラブルオブジェクトは、渡されたイテラブルオブジェクトそれぞれの先頭の要素から順番に、タプルに束ねて返します。\n",
    "このイテラブルオブジェクトの長さは、渡されたイテラブルオブジェクトのうち最も短い長さと一致します。"
   ]
  },
  {
   "cell_type": "code",
   "execution_count": null,
   "id": "a3a9a854",
   "metadata": {
    "colab": {
     "base_uri": "https://localhost:8080/",
     "height": 53
    },
    "colab_type": "code",
    "id": "5w8huhHcQR8F",
    "outputId": "528f66f9-c589-481b-f82e-4bf4dfb9982d"
   },
   "outputs": [],
   "source": [
    "names = ['Python', 'Chainer']\n",
    "versions = ['3.7', '5.3.0']\n",
    "suffixes = ['!!', '!!', '?']\n",
    "\n",
    "for name, version, suffix in zip(names, versions, suffixes):\n",
    "    print('{} {} {}'.format(name, version, suffix))"
   ]
  },
  {
   "cell_type": "markdown",
   "id": "3a270492",
   "metadata": {
    "colab_type": "text",
    "id": "IeQCA00UQYDq"
   },
   "source": [
    "`suffixes` の要素数は 3 ですが、より短いイテラブルオブジェクトと共に `zip` に渡されたため、先頭から 2 つ目までしか値が取り出されていません。"
   ]
  },
  {
   "cell_type": "markdown",
   "id": "069e5774",
   "metadata": {
    "colab_type": "text",
    "id": "WguFiYgqQnQT"
   },
   "source": [
    "### 条件分岐（if 文）\n",
    "\n",
    "`if` は、指定した条件が `True` か `False` かによって、処理を変えるための制御構文です。\n",
    "\n",
    "![if文](images/02/02_08.png)"
   ]
  },
  {
   "cell_type": "markdown",
   "id": "159f7b4a",
   "metadata": {
    "colab_type": "text",
    "id": "J-Z8g-Klv9dV"
   },
   "source": [
    "`elif` と `else` は任意であり、`elif` は 1 つだけでなく複数連ねることができます。\n",
    "\n",
    "例えば、0 より大きいことを条件とした処理を書いてみます。"
   ]
  },
  {
   "cell_type": "code",
   "execution_count": null,
   "id": "6772da48",
   "metadata": {
    "colab": {
     "base_uri": "https://localhost:8080/",
     "height": 35
    },
    "colab_type": "code",
    "id": "E-x_6gXwSsm7",
    "outputId": "86d289f1-92f1-4ada-ff3e-017e71f7c4b4"
   },
   "outputs": [],
   "source": [
    "# if の条件を満たす場合\n",
    "a = 1\n",
    "\n",
    "if a > 0:\n",
    "    print('0より大きいです')\n",
    "else:\n",
    "    print('0以下です')"
   ]
  },
  {
   "cell_type": "code",
   "execution_count": null,
   "id": "0863d6c9",
   "metadata": {
    "colab": {
     "base_uri": "https://localhost:8080/",
     "height": 35
    },
    "colab_type": "code",
    "id": "BmcHf-w5v9dV",
    "outputId": "134ddbe4-5605-4286-945e-a128ad6abc23"
   },
   "outputs": [],
   "source": [
    "# if の条件を満たさない場合\n",
    "a = -1\n",
    "\n",
    "if a > 0:\n",
    "    print('0より大きいです')\n",
    "else:\n",
    "    print('0以下です')"
   ]
  },
  {
   "cell_type": "markdown",
   "id": "267856a7",
   "metadata": {
    "colab_type": "text",
    "id": "u0F8tX6FStcQ"
   },
   "source": [
    "また、`if` に対する条件以外の条件分岐を追加する場合は、下記のように `elif` を使います。"
   ]
  },
  {
   "cell_type": "code",
   "execution_count": null,
   "id": "5b987fe9",
   "metadata": {
    "colab": {
     "base_uri": "https://localhost:8080/",
     "height": 35
    },
    "colab_type": "code",
    "id": "6li0UyjpStjg",
    "outputId": "8e0cecde-fce4-4db6-8d1c-0dbeb80e36b0"
   },
   "outputs": [],
   "source": [
    "a = 0\n",
    "\n",
    "if a > 0:    \n",
    "    print('0より大きいです')\n",
    "elif a == 0:\n",
    "    print('0です')\n",
    "else:\n",
    "    print('0より小さいです')"
   ]
  },
  {
   "cell_type": "markdown",
   "id": "1b3e2bf7",
   "metadata": {
    "colab_type": "text",
    "id": "tZ15Hv9Gv9dY"
   },
   "source": [
    "### 繰り返し（while 文）\n",
    "\n",
    "繰り返し処理は、`for` 以外にも `while` を用いて記述することもできます。\n",
    "`while` 文では、以下のように**ループを継続する条件**を指定します。\n",
    "指定された条件文が `True` である限り、ブロックの部分に記述された処理が繰り返し実行されます。\n",
    "\n",
    "![while文](images/02/02_09.png)"
   ]
  },
  {
   "cell_type": "markdown",
   "id": "8e66871c",
   "metadata": {
    "colab_type": "text",
    "id": "Zjv8d3Rmv9dZ"
   },
   "source": [
    "`while` 文を使用した 3 回繰り返すプログラムは下記のとおりです。"
   ]
  },
  {
   "cell_type": "code",
   "execution_count": null,
   "id": "bd2a3f54",
   "metadata": {
    "colab": {
     "base_uri": "https://localhost:8080/",
     "height": 70
    },
    "colab_type": "code",
    "id": "aFhfzaDFv9dZ",
    "outputId": "075646ab-8c87-41ea-fd6e-d7ee37334441"
   },
   "outputs": [],
   "source": [
    "count = 0\n",
    "\n",
    "while count < 3:\n",
    "    print(count)\n",
    "    count += 1"
   ]
  },
  {
   "cell_type": "markdown",
   "id": "58d40de5",
   "metadata": {
    "colab_type": "text",
    "id": "1Q3QReThv9da"
   },
   "source": [
    "ここで使われている `count` という変数は、ループの中身が何回実行されたかを数えるために使われています。\n",
    "まず `0` で初期化し、ループ内の処理が一度行われるたびに `count` の値に 1 を足しています。\n",
    "この `count` を使った条件式を `while` 文に与えることで、ループを回したい回数を指定しています。\n",
    "\n",
    "一方、`while True` と指定すると、`True` は変数ではなく値なので、変更されることはなく、ループは無限に回り続けます。\n",
    "`while` 文自体は無限ループの状態にしておき、ループの中で `if` 文を使って、ある条件が満たされた場合はループを中断する、という使い方ができます。\n",
    "これには `break` 文が用いられます。\n",
    "\n",
    "以下は、`break` 文を使って上のコードと同様に 3 回ループを回すコードです。"
   ]
  },
  {
   "cell_type": "code",
   "execution_count": null,
   "id": "426e81fd",
   "metadata": {
    "colab": {
     "base_uri": "https://localhost:8080/",
     "height": 70
    },
    "colab_type": "code",
    "id": "wj65vycFv9da",
    "outputId": "14670424-de4d-4493-bf64-2339416c69db"
   },
   "outputs": [],
   "source": [
    "count = 0\n",
    "\n",
    "while True:\n",
    "    print(count)\n",
    "    count += 1\n",
    "    \n",
    "    if count == 3:\n",
    "        break"
   ]
  },
  {
   "cell_type": "markdown",
   "id": "d40dd526",
   "metadata": {
    "colab_type": "text",
    "id": "AQFnBfgEv9da"
   },
   "source": [
    "`count` の値が 3 と等しいかどうかが毎回チェックされ、等しくなっていれば `break` 文が実行されて `while` ループが終了します。"
   ]
  },
  {
   "cell_type": "markdown",
   "id": "c2d84fe6",
   "metadata": {
    "colab_type": "text",
    "id": "2rtEn2APv9db"
   },
   "source": [
    "`while` 文を使って、指定された条件を満たして**いない**間ループを繰り返すという処理も書くことができます。`while` 文自体の使い方は同じですが、条件を反転して与えることで、与えた条件が `False` である間繰り返されるようにすることができます。\n",
    "\n",
    "これには、ブール値を反転する `not` を用います。\n",
    "`not True` は `False` を返し、`not False` は `True` を返します。"
   ]
  },
  {
   "cell_type": "code",
   "execution_count": null,
   "id": "0a442afb",
   "metadata": {
    "colab": {
     "base_uri": "https://localhost:8080/",
     "height": 35
    },
    "colab_type": "code",
    "id": "0PucNNA0v9db",
    "outputId": "dc0151bc-a617-48c1-c63b-5826c8ed201c"
   },
   "outputs": [],
   "source": [
    "not True"
   ]
  },
  {
   "cell_type": "code",
   "execution_count": null,
   "id": "56608637",
   "metadata": {
    "colab": {
     "base_uri": "https://localhost:8080/",
     "height": 35
    },
    "colab_type": "code",
    "id": "9iX7JkEOv9db",
    "outputId": "3d72981a-bde9-46e1-de00-4fad8b237fda"
   },
   "outputs": [],
   "source": [
    "not False"
   ]
  },
  {
   "cell_type": "code",
   "execution_count": null,
   "id": "2e79a723",
   "metadata": {
    "colab": {
     "base_uri": "https://localhost:8080/",
     "height": 35
    },
    "colab_type": "code",
    "id": "TkSUZ1iZv9dc",
    "outputId": "5577f165-0fa0-4ffa-af45-ac847a311049"
   },
   "outputs": [],
   "source": [
    "not 1 == 2"
   ]
  },
  {
   "cell_type": "markdown",
   "id": "b17dbda3",
   "metadata": {
    "colab_type": "text",
    "id": "0aM2yZ7qv9dd"
   },
   "source": [
    "このように、`not` はあとに続くブール値を反転します。\n",
    "これを用いて、`count` が 3 **ではない**限りループを繰り返すというコードを `while` 文を使って書いてみましょう。"
   ]
  },
  {
   "cell_type": "code",
   "execution_count": null,
   "id": "a0867bb7",
   "metadata": {
    "colab": {
     "base_uri": "https://localhost:8080/",
     "height": 70
    },
    "colab_type": "code",
    "id": "vhvBNYCXv9dd",
    "outputId": "c7651cd7-4f86-47ad-b8a6-c505dd996de5"
   },
   "outputs": [],
   "source": [
    "count = 0\n",
    "\n",
    "while not count == 3:\n",
    "    print(count)\n",
    "    count += 1"
   ]
  }
 ],
 "metadata": {
  "kernelspec": {
   "display_name": "Python 3",
   "language": "python",
   "name": "python3"
  },
  "language_info": {
   "codemirror_mode": {
    "name": "ipython",
    "version": 3
   },
   "file_extension": ".py",
   "mimetype": "text/x-python",
   "name": "python",
   "nbconvert_exporter": "python",
   "pygments_lexer": "ipython3",
   "version": "3.9.13"
  },
  "vscode": {
   "interpreter": {
    "hash": "ecfa4e302b7607fa496cb9db9d32610bd00ed1bfe39386c5ce0408823d5ee60a"
   }
  }
 },
 "nbformat": 4,
 "nbformat_minor": 5
}
