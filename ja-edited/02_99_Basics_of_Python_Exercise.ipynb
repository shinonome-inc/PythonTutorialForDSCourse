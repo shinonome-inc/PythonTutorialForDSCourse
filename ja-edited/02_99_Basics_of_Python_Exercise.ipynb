{
 "cells": [
  {
   "cell_type": "markdown",
   "metadata": {},
   "source": [
    "## \"2. Python 入門\" の演習問題\n",
    "\n",
    "### 問2.1 (組み込み関数)\n",
    "\n",
    "Python には2章で紹介した以外にも数多くの組み込み関数が定義されています。組み込み関数を適切に使うことでコードを簡潔に記せます。`a=[4, 8, 3, 4, 1]` というリストに対して以下の操作を行う組み込み関数を[公式ドキュメント](https://docs.python.org/ja/3/library/functions.html)からそれぞれ探し、適用して下さい。すなわち、以下のコードセル中の `FUNC` の部分を適切な組み込み関数に置き換えてください。\n",
    "\n",
    "- リスト `a` の長さを求める。\n",
    "- リスト `a` に含まれる値の最大値を求める。\n",
    "- リスト `a` に含まれる値の最小値を求める。\n",
    "- リスト `a` に含まれる値の合計値を求める。\n",
    "- リスト `a` をソートして、`[1, 3, 4, 4, 8]` というリストを返す。"
   ]
  },
  {
   "cell_type": "code",
   "execution_count": null,
   "metadata": {},
   "outputs": [],
   "source": [
    "# 以下の FUNC という部分を組み込み関数に置き換えてください\n",
    "\n",
    "a = [4, 8, 3, 4, 1]\n",
    "res = FUNC(a)\n",
    "print(res)"
   ]
  },
  {
   "cell_type": "markdown",
   "metadata": {},
   "source": [
    "### 問2.2 (演算)\n",
    "\n",
    "以下の演算や関数をそれぞれ評価したとき、結果の値と型が何になるか予想してください。実際にコードを実行して、結果が予想と合うか確かめてください。型の確認には `type()` 関数を使用しましょう。\n",
    "\n",
    "- `1.2 + 3.8`\n",
    "- `10 // 100`\n",
    "- `1 >= 0`\n",
    "- `'Hello World' == 'Hello World'`\n",
    "- `not 'Chainer' != 'Tutorial'`\n",
    "- `all([True, True, False])`  (`all` の定義は[公式ドキュメントを参照](https://docs.python.org/ja/3/library/functions.html#all))\n",
    "- `any([True, True, False])`  (`any` の定義は[公式ドキュメントを参照](https://docs.python.org/ja/3/library/functions.html#any))\n",
    "- `abs(-3)`  (`abs` の定義は[公式ドキュメントを参照](https://docs.python.org/ja/3/library/functions.html#abs))\n",
    "- `2 // 0`"
   ]
  },
  {
   "cell_type": "code",
   "execution_count": null,
   "metadata": {},
   "outputs": [],
   "source": [
    "# ここにコードを書いてください\n"
   ]
  },
  {
   "cell_type": "markdown",
   "metadata": {},
   "source": [
    "### 問2.3 (リストの基本操作)\n",
    "\n",
    "機械学習では大量のデータを扱うことが多いため、リストの扱いに慣れておくと便利なことが多いです。\n",
    "`a=[4, 8, 3, 4, 1]` というリストに対して以下の操作を行うコードを書いて下さい。\n",
    "\n",
    "- リスト `a` の先頭の要素を取り除いて、`[8, 3, 4, 1]` となるようにして下さい。\n",
    "- リスト `a` の末尾の要素を取り除いて、`[4, 8, 3, 4]` となるようにして下さい。\n",
    "- リスト `a` の末尾に `100` という値を追加して、`[4, 8, 3, 4, 1, 100]` となるようにして下さい。"
   ]
  },
  {
   "cell_type": "code",
   "execution_count": null,
   "metadata": {},
   "outputs": [],
   "source": [
    "# ここにコードを書いてください\n"
   ]
  },
  {
   "cell_type": "markdown",
   "metadata": {},
   "source": [
    "### 問2.4 (リスト内包表記)\n",
    "\n",
    "**リスト内包表記**はリストを生成するための簡潔な手段です。例えば、平方数のリスト `[0, 1, 4, 9, 16, ...]` を構成したいとき、\n",
    "```python\n",
    "squares = []\n",
    "for x in range(10):\n",
    "    squares.append(x ** 2)\n",
    "```\n",
    "と書く代わりに、\n",
    "```python\n",
    "squares = [x ** 2 for x in range(10)]\n",
    "```\n",
    "と書くことができます。リスト内包表記は一般に `[(式) for (変数) in (iterableオブジェクト)]` という構文を取ります。リスト内包表記の一般的な説明は[公式ドキュメント](https://docs.python.org/ja/3/tutorial/datastructures.html#list-comprehensions)を参照して下さい。リスト内包表記で `in` の後に続く iterable オブジェクトは `range` である必要はなく、例えばリストを指定できます。\n",
    "\n",
    "```python\n",
    "a = [4, 8, 3, 4, 1]\n",
    "squares = [x ** 2 for x in a]\n",
    "print(squares)  # => [16, 64, 9, 16, 1]\n",
    "```\n",
    "\n",
    "以下の問いに答えて下さい。\n",
    "\n",
    "(1) `a=[4, 8, 3, 4, 1]` というリストに対し、要素が偶数なら `0`, 奇数なら `1` に変換するコードをリスト内包表記を用いて書いて下さい。この結果、このリストは `[0, 0, 1, 0, 1]` に変換されるべきです。\n",
    "\n",
    "(2) (1) で書いたコードと組み込み関数を組み合わせて、リスト `a` に含まれる奇数の個数を数えるコードを書いて下さい。\n",
    "\n",
    "(3) リスト内包表記では、`if` 文を用いることで条件を満たす要素だけをリストに残すことができます。例えば\n",
    "```python\n",
    "b = [x for x in range(10) if x > 5]\n",
    "```\n",
    "と記すと、`b` は要素が `5` より大きいもののみが残り `[6, 7, 8, 9]` となります。\n",
    "\n",
    "リスト内包表記を使ってリスト `a` から奇数の要素だけを残すコードを書いて下さい。"
   ]
  },
  {
   "cell_type": "markdown",
   "metadata": {},
   "source": [
    "### 問2.5 (文字列)\n",
    "\n",
    "Python では文字列型に対して便利な組み込み関数が多数定義されています([公式のドキュメント](https://docs.python.org/ja/3/library/stdtypes.html#text-sequence-type-str))。組み込み関数を使って以下の処理を行って下さい。\n",
    "\n",
    "(1) [str.join()](https://docs.python.org/ja/3/library/stdtypes.html#str.join) を使って、`0` から `99` までの数をスペース区切りで並べた文字列 `\"0 1 2 3 4 ... 99\"` を構成して下さい。\n",
    "\n",
    "(2) [str.format()](https://docs.python.org/ja/3/library/stdtypes.html#str.format) を使って `float` の値 `(1.0 / 7.0)` の小数点以下9桁までを表示して下さい。"
   ]
  },
  {
   "cell_type": "code",
   "execution_count": null,
   "metadata": {},
   "outputs": [],
   "source": [
    "# ここにコードを書いてください\n"
   ]
  },
  {
   "cell_type": "markdown",
   "metadata": {},
   "source": [
    "### 問2.6 (クラス)\n",
    "\n",
    "クラスを実装する練習として、データを管理するクラスを実装してみましょう。\n",
    "次のメソッドを全て持つクラス `DataManager` を記述して下さい。\n",
    "\n",
    "* `__init__(self, x, y, z)`: 3つの数 `x`, `y`, `z` をコンストラクタで受け取り、インスタンスの属性でそれぞれの値を記憶する。\n",
    "* `add_x(self, delta)`: `x` に `delta` だけ足して、値を更新する。\n",
    "* `add_y(self, delta)`: `y` に `delta` だけ足して、値を更新する。\n",
    "* `add_z(self, delta)`: `z` に `delta` だけ足して、値を更新する。\n",
    "* `sum(self)`: `x`, `y`, `z` の3つの数の合計値を返す。\n",
    "\n",
    "このクラスを使って以下のようなコードが書けるものとします。\n",
    "\n",
    "```python\n",
    "data_manager = DataManager(2, 3, 5)\n",
    "print(data_manager.sum())  # => 10\n",
    "data_manager.add_x(4)      # => data_manager.x の値が 2 から 6 に更新される\n",
    "print(data_manager.sum())  # => 14\n",
    "data_manager.add_y(0)      # => data_manager.y の値が 3 から 3 に更新される\n",
    "print(data_manager.sum())  # => 14\n",
    "data_manager.add_z(-9)     # => data_manager.z の値が 5 から -4 に更新される\n",
    "print(data_manager.sum())  # => 5\n",
    "```"
   ]
  },
  {
   "cell_type": "code",
   "execution_count": null,
   "metadata": {},
   "outputs": [],
   "source": [
    "# ここにコードを書いてください\n"
   ]
  },
  {
   "cell_type": "markdown",
   "metadata": {},
   "source": [
    "### 問2.7 (関数呼び出し)\n",
    "以下で定義される関数 `f`, `g` があるとします。\n",
    "\n",
    "```python\n",
    "def f(a):\n",
    "    a = [6, 7, 8]\n",
    "    \n",
    "def g(a):\n",
    "    a.append(1)\n",
    "```\n",
    "\n",
    "これらに対し、次のコードの実行結果がどうなるか予想して下さい。実際にコードを実行して予想と一致しているか確認し、なぜそのような結果になったのか説明して下さい。\n",
    "\n",
    "```python\n",
    "def somefunction():\n",
    "    a0 = [1, 2, 3]\n",
    "    f(a0)\n",
    "    print(a0)\n",
    "\n",
    "    a1 = [1, 2, 3]\n",
    "    g(a1)\n",
    "    print(a1)\n",
    "    \n",
    "somefunction()\n",
    "```"
   ]
  },
  {
   "cell_type": "code",
   "execution_count": null,
   "metadata": {},
   "outputs": [],
   "source": [
    "# ここにコードを書いてください\n"
   ]
  },
  {
   "cell_type": "markdown",
   "metadata": {},
   "source": [
    "### 問2.8 (制御構文)\n",
    "\n",
    "2以上の整数 `p` が素数であるとは、「どんな `2` 以上 `p-1` 以下の整数 `k` に対しても `p` は `k` で割り切れない」が成り立つことを指します。素数を小さい順から列挙すると、`2`, `3`, `5`, `7`, `11`, `13`, `17`, ... となります。\n",
    "チュートリアルで学んだ制御構文である `if` や `for` を用いて、`2` から `100` からまでに含まれる素数を列挙して下さい。"
   ]
  },
  {
   "cell_type": "code",
   "execution_count": null,
   "metadata": {},
   "outputs": [],
   "source": [
    "# ここにコードを書いてください\n"
   ]
  }
 ],
 "metadata": {
  "kernelspec": {
   "display_name": "Python 3",
   "language": "python",
   "name": "python3"
  },
  "language_info": {
   "name": "python",
   "version": "3.11.1 (main, Dec 17 2022, 18:26:28) [GCC 9.4.0]"
  },
  "orig_nbformat": 4,
  "vscode": {
   "interpreter": {
    "hash": "b1e51fb100c183cd216cb2810497761ef2f2b4cf86253a068f89ee6d296d1860"
   }
  }
 },
 "nbformat": 4,
 "nbformat_minor": 2
}
