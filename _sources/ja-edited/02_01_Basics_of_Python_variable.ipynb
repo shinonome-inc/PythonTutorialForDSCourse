{
 "cells": [
  {
   "attachments": {},
   "cell_type": "markdown",
   "id": "1c83380c",
   "metadata": {
    "colab_type": "text",
    "id": "D3QflLv0qdiy"
   },
   "source": [
    "# Python 入門\n",
    "\n",
    "本章では、プログラミング言語 Python の基礎的な文法を学んでいきます。\n",
    "次章以降に登場するコードを理解するにあたって必要となる最低限の知識について、最短で習得するのが目標です。\n",
    "より正確かつ詳細な知識を確認したい場合には、[公式のチュートリアル](https://docs.python.jp/3/tutorial/index.html)などを参照してください。\n",
    "\n",
    "Pythonにはバージョンとして 2 系と 3 系の 2 つの系統があり、互換性のない部分もあります。\n",
    "本チュートリアルでは、3 系である **Python 3.6** 以上を前提とした解説を行っています。\n",
    "\n",
    "## Python の特徴\n",
    "\n",
    "プログラミング言語には、Python 以外にも C 言語や Java、Ruby、R のように様々なものがあります。それぞれの言語がすべての用途に適しているわけではなく、しばしば用途によって得手不得手があります。\n",
    "\n",
    "本チュートリアルでは基本的に Python というプログラミング言語を扱います。\n",
    "その理由は、Python はデータ解析・機械学習のためのライブラリが充実しており、データ解析や機械学習の分野で最もよく使われている言語だからです。\n",
    "また、Web アプリケーションフレームワークの開発も活発で、データ解析だけでなく Web サービス開発まで同じ言語で統一して行える点も魅力です。\n"
   ]
  },
  {
   "cell_type": "markdown",
   "id": "68c09b16",
   "metadata": {
    "colab_type": "text",
    "id": "unYvpNZCv9aF"
   },
   "source": [
    "さらには、初学者にとっても学びやすい言語です。\n",
    "初学者がプログラミングを学び始めるときにつまづきがちな難しい概念が他の言語と比べ多くなく、入門しやすい言語といえます。\n",
    "\n",
    "まとめると、Python には\n",
    "\n",
    "- データ解析や機械学習によく使われている\n",
    "- Web アプリケーションの開発などでもよく使われている\n",
    "- 初学者がはじめやすい言語\n",
    "\n",
    "のような魅力があります。"
   ]
  },
  {
   "cell_type": "markdown",
   "id": "ba51c0f5",
   "metadata": {
    "colab_type": "text",
    "id": "jZNTuBQ54BSu"
   },
   "source": [
    "### 文法とアルゴリズム\n",
    "\n",
    "プログラミングによってある特定の処理をコンピュータで自動化したい場合、**文法**と**アルゴリズム**の 2 つを理解しておく必要があります。\n",
    "\n",
    "プログラムでは、まずはじめにコンピュータに命令を伝えるためのルールとなる**文法**を覚える必要があります。\n",
    "文法を無視した記述があるプログラムは、実行した際にエラーとなり処理が停止します。そのため、文法はしっかりと理解しておく必要があります。\n",
    "\n",
    "ただし、文法さえ理解していれば十分かというとそうではありません。一般的に、初学者向けのプログラミングの参考書では、この文法だけを取り扱うことも多いのですが、コンピュータに処理を自動化させることが目的であれば、文法だけでなく**アルゴリズム**も理解する必要があります。アルゴリズムとは、どういう順番でどのような処理をしていくかの一連の手順をまとめたものです。\n",
    "\n",
    "この章では、Python の文法について紹介し、機械学習やディープラーニングで必要となるアルゴリズムについてはこれ以降の章で紹介します。\n",
    "\n",
    "ここでは以下 4 つの文法に主眼を置きながら説明していきます。\n",
    "\n",
    "- 変数\n",
    "- 制御構文\n",
    "- 関数\n",
    "- クラス"
   ]
  },
  {
   "cell_type": "markdown",
   "id": "80a2cac4",
   "metadata": {
    "colab_type": "text",
    "id": "hO4YLiKjIfDi"
   },
   "source": [
    "## 変数\n",
    "\n",
    "**変数 (variable)** とは、様々な値を格納することができる、**名前がついた入れ物**です。\n",
    "この変数に値を格納したり、更新したりすることで、計算結果を一時的に保持しておくことができます。\n",
    "\n",
    "### 代入と値の確認\n",
    "\n",
    "それでは、`a` という名前の変数に、`1` を**代入**してみましょう。"
   ]
  },
  {
   "cell_type": "code",
   "execution_count": null,
   "id": "60b24f88",
   "metadata": {
    "colab": {},
    "colab_type": "code",
    "id": "SjpDQJn-3Rct"
   },
   "outputs": [],
   "source": [
    "a = 1"
   ]
  },
  {
   "attachments": {},
   "cell_type": "markdown",
   "id": "7d34f3ae",
   "metadata": {
    "colab_type": "text",
    "id": "aitz3Hri_a-n"
   },
   "source": [
    "代入は `=` の記号を用います。\n",
    "数学的には `=` は等しいという意味を持ちますが、Python では **「左辺の変数に、右辺の値を代入する」** という意味になります。\n",
    "\n",
    "Jupyter Notebook 上では、変数名だけ、もしくは変数名を最後の行に記述したセルを実行すると、値を確認することができます。"
   ]
  },
  {
   "cell_type": "code",
   "execution_count": null,
   "id": "3aa1d058",
   "metadata": {
    "colab": {
     "base_uri": "https://localhost:8080/",
     "height": 35
    },
    "colab_type": "code",
    "id": "6SbAfM5Rv9aM",
    "outputId": "e8173162-1c03-418e-f01f-3785b6b255e9"
   },
   "outputs": [],
   "source": [
    "a"
   ]
  },
  {
   "cell_type": "markdown",
   "id": "fc2e9224",
   "metadata": {
    "colab_type": "text",
    "id": "8b0i8oelv9aR"
   },
   "source": [
    "このように、変数に格納されている値を確認することができました。\n",
    "また、値を確認するための他の方法として、`print()` と呼ばれる**関数 (function)** を使用することもできます。\n",
    "関数について詳しくは後述しますが、`print()` のように Python には予め多くの関数が定義されています。 そのような関数を**組み込み関数 (built-in function)** といいます。"
   ]
  },
  {
   "cell_type": "code",
   "execution_count": null,
   "id": "0c355164",
   "metadata": {
    "colab": {
     "base_uri": "https://localhost:8080/",
     "height": 35
    },
    "colab_type": "code",
    "id": "oTHXMTjiv9aR",
    "outputId": "fc9f6804-a059-48f1-ae0a-45ca25eecc86"
   },
   "outputs": [],
   "source": [
    "print(a)"
   ]
  },
  {
   "cell_type": "markdown",
   "id": "5990a5ff",
   "metadata": {
    "colab_type": "text",
    "id": "nGNlqHW_v9aV"
   },
   "source": [
    "変数につける名前は、コードを書く人が自由に決めることができます。\n",
    "ただし、わかりやすい名前をつけることがとても大切です。\n",
    "例えば、人の名前を格納するための変数が `a` という変数名だと、それがどのような使われ方をするのかを容易に類推することができません。\n",
    "`name` という名前であれば、ひと目で見て何のための変数かが分かるようになります。\n",
    "これは、自分のコードを読む他人や、未来の自分にとってコードを理解するための大きな手がかりとなります。"
   ]
  },
  {
   "attachments": {},
   "cell_type": "markdown",
   "id": "fae49a8b",
   "metadata": {
    "colab_type": "text",
    "id": "BQhk7-XfDFhS"
   },
   "source": [
    "### コメント\n",
    "\n",
    "Python では、`#` の後からその行の終わりまでに存在する全ての文字列は無視されます。\n",
    "この `#` の後ろに続く部分を **コメント (comment)** と呼び、すでに書かれたコードをコメントにすることを **コメントアウト (comment out)** と言います。\n",
    "コメントは、コード中に変数の意味や処理の意味をコードを読む人に伝えるためによく使われます。\n",
    "\n",
    "Jupyter Notebook のコードセルに書かれたコードを行ごとコメントアウトしたい場合は、その行を選択した状態で `Ctrl + /` を入力することで自動的に行の先頭に `#` 記号を挿入することができます。複数行を選択していれば、選択された複数の行が同時にコメントアウトされます。また、コメントアウトされている行を選択した状態で同じキー入力を送ると、コメントアウトが解除されます。\n",
    "下のセルを実行してみましょう。"
   ]
  },
  {
   "cell_type": "code",
   "execution_count": null,
   "id": "f43283ac",
   "metadata": {
    "colab": {},
    "colab_type": "code",
    "id": "YK_XjChXDXmH"
   },
   "outputs": [],
   "source": [
    "# この行及び下の行はコメントアウトされているため実行時に無視されます\n",
    "# print(a)"
   ]
  },
  {
   "cell_type": "markdown",
   "id": "929843ee",
   "metadata": {
    "colab_type": "text",
    "id": "_xAqta5WIfGJ"
   },
   "source": [
    "`print(a)` が書かれているにも関わらず、何も表示されませんでした。\n",
    "これは、`print(a)` 関数が書かれた行がコメントアウトされていたためです。"
   ]
  },
  {
   "cell_type": "markdown",
   "id": "cfea4efe",
   "metadata": {
    "colab_type": "text",
    "id": "I_Z6hhts_v4c"
   },
   "source": [
    "### 変数の型\n",
    "\n",
    "プログラミングで扱う値には種類があります。\n",
    "Python では、**整数 (integer)**、**実数 (real number)**、**文字列 (string)** などが代表的な値の種類です。\n",
    "それぞれの種類によって、コンピュータ内での取扱い方が異なり、この種類のことは一般に**型 (type)** と呼びます。\n",
    "\n",
    "例えば、整数、実数、そして文字列をそれぞれ別々の変数に代入するコードは以下のとおりです。"
   ]
  },
  {
   "cell_type": "code",
   "execution_count": null,
   "id": "d5e611ef",
   "metadata": {
    "colab": {},
    "colab_type": "code",
    "id": "FChuhC8Jv9aa"
   },
   "outputs": [],
   "source": [
    "a = 1"
   ]
  },
  {
   "cell_type": "code",
   "execution_count": null,
   "id": "56eaa5e9",
   "metadata": {
    "colab": {},
    "colab_type": "code",
    "id": "qCdjuQqNv9ac"
   },
   "outputs": [],
   "source": [
    "b = 1.2"
   ]
  },
  {
   "cell_type": "code",
   "execution_count": null,
   "id": "26a71477",
   "metadata": {
    "colab": {},
    "colab_type": "code",
    "id": "VLMovMgnv9ae"
   },
   "outputs": [],
   "source": [
    "c = 'Chainer'"
   ]
  },
  {
   "attachments": {},
   "cell_type": "markdown",
   "id": "e23366aa",
   "metadata": {
    "colab_type": "text",
    "id": "DwMajDvAv9ag"
   },
   "source": [
    "プログラムは型によって変数の取り扱いが異なるため、型の違いがエラーの原因になることがあります。そのため、簡単に型の特徴は把握しておく必要があります。\n",
    "\n",
    "まずは、上記の `a`, `b`, `c` の型を確認する方法を紹介します。\n",
    "型の確認は `type()` という組み込み関数を使用します。"
   ]
  },
  {
   "cell_type": "code",
   "execution_count": null,
   "id": "b8a98461",
   "metadata": {
    "colab": {
     "base_uri": "https://localhost:8080/",
     "height": 35
    },
    "colab_type": "code",
    "id": "RUflpSu6v9ag",
    "outputId": "3219c3be-c030-478f-ef28-b2da097fc8f4"
   },
   "outputs": [],
   "source": [
    "type(a)"
   ]
  },
  {
   "cell_type": "code",
   "execution_count": null,
   "id": "d5a69468",
   "metadata": {
    "colab": {
     "base_uri": "https://localhost:8080/",
     "height": 35
    },
    "colab_type": "code",
    "id": "YBtHAigUv9aj",
    "outputId": "36b7795d-d590-4b51-c02e-b3aa656d6bd5"
   },
   "outputs": [],
   "source": [
    "type(b)"
   ]
  },
  {
   "cell_type": "code",
   "execution_count": null,
   "id": "b95d0c56",
   "metadata": {
    "colab": {
     "base_uri": "https://localhost:8080/",
     "height": 35
    },
    "colab_type": "code",
    "id": "6PaQmlMCv9an",
    "outputId": "a0b6ebc3-0871-47f6-b8e1-46937b23d623"
   },
   "outputs": [],
   "source": [
    "type(c)"
   ]
  },
  {
   "cell_type": "markdown",
   "id": "aed93c16",
   "metadata": {
    "colab_type": "text",
    "id": "gatuDQAyv9aq"
   },
   "source": [
    "`a` は `int` という整数の型をもつ変数であり、`b` は `float` という実数の型をもつ変数です。\n",
    "この `float` という型の名前は、コンピュータ内で実数を扱うときの形式である**浮動小数点数 (floating-point number)** に由来しています。\n",
    "\n",
    "`c` は `str` という文字列の型をもつ変数であり、値を定義するにはシングルクォーテーション `' '` もしくはダブルクォーテーション `\" \"` で対象の文字列をくくる必要があります。"
   ]
  },
  {
   "attachments": {},
   "cell_type": "markdown",
   "id": "6de93d8d",
   "metadata": {
    "colab_type": "text",
    "id": "Chdmx6HGIfEV"
   },
   "source": [
    "Python では、`.` を含まない連続した数字を `int`、直前・直後も含め `.` が含まれる連続した数字を `float` だと自動的に解釈します。\n",
    "例えば、`7` や `365` は `int` ですが、`2.718`、`.25`、`10.` などは `float` になります。"
   ]
  },
  {
   "cell_type": "markdown",
   "id": "b2cb1979",
   "metadata": {
    "colab_type": "text",
    "id": "by0V-W7nIfEj"
   },
   "source": [
    "例えば、実数の `5` は以下のように書くことができます。"
   ]
  },
  {
   "cell_type": "code",
   "execution_count": null,
   "id": "d4ff2e88",
   "metadata": {
    "colab": {
     "base_uri": "https://localhost:8080/",
     "height": 35
    },
    "colab_type": "code",
    "id": "uUYCOBaAIfEj",
    "outputId": "00c3e638-e7dd-4d7a-affa-863d9407c9e0"
   },
   "outputs": [],
   "source": [
    "type(5.0)"
   ]
  },
  {
   "cell_type": "code",
   "execution_count": null,
   "id": "b055af17",
   "metadata": {
    "colab": {
     "base_uri": "https://localhost:8080/",
     "height": 35
    },
    "colab_type": "code",
    "id": "y26NMdQ2IfEo",
    "outputId": "cc8fe9ce-1a65-444c-cc59-3d11de8862b0"
   },
   "outputs": [],
   "source": [
    "type(5.)"
   ]
  },
  {
   "cell_type": "markdown",
   "id": "965448c5",
   "metadata": {
    "colab_type": "text",
    "id": "g3BdGDJaIfEr"
   },
   "source": [
    "一方、`.5` と書くと、これは `0.5` の略記と解釈されることに注意してください。"
   ]
  },
  {
   "cell_type": "code",
   "execution_count": null,
   "id": "54fa0e6c",
   "metadata": {
    "colab": {
     "base_uri": "https://localhost:8080/",
     "height": 35
    },
    "colab_type": "code",
    "id": "aXpxR7WmIfEs",
    "outputId": "f6ade488-902d-4d96-9cc0-e0a96caca7f6"
   },
   "outputs": [],
   "source": [
    "type(.5)"
   ]
  },
  {
   "cell_type": "code",
   "execution_count": null,
   "id": "913508ba",
   "metadata": {
    "colab": {
     "base_uri": "https://localhost:8080/",
     "height": 35
    },
    "colab_type": "code",
    "id": "enBKbL9fIfEx",
    "outputId": "992db59f-1989-4d2d-db0d-241aa434cc83"
   },
   "outputs": [],
   "source": [
    "print(.5)"
   ]
  },
  {
   "cell_type": "markdown",
   "id": "48f47ff8",
   "metadata": {
    "colab_type": "text",
    "id": "VsdsnV9uiQev"
   },
   "source": [
    "### 算術演算子\n",
    "\n",
    "様々な計算を意味する**演算子**と呼ばれる記号があります。\n",
    "はじめに紹介するのは**算術演算子 (arithmetic operator)** と呼ばれるもので、 2 つの変数または値を取り、 1 つの演算結果を返します。\n",
    "\n",
    "代表的な演算として**四則演算（加算・減算・乗算・除算）**があります。\n",
    "四則演算に対応する演算子として、Python では以下の記号が用いられます。\n",
    "\n",
    "| 演算 | 記号 |\n",
    "|------|------|\n",
    "| 加算（足し算） | `+` |\n",
    "| 減算（引き算） | `-` |\n",
    "| 乗算（掛け算） | `*` |\n",
    "| 除算（割り算） | `/` |\n",
    "\n",
    "具体例を見ながら使い方を説明します。"
   ]
  },
  {
   "cell_type": "code",
   "execution_count": null,
   "id": "cea0d398",
   "metadata": {
    "colab": {
     "base_uri": "https://localhost:8080/",
     "height": 35
    },
    "colab_type": "code",
    "id": "MBaRZ2RkBWbd",
    "outputId": "744c489e-75bd-4fbb-f6c1-7e73d751ff07"
   },
   "outputs": [],
   "source": [
    "# 整数と整数で加算 -> 結果は整数\n",
    "1+1"
   ]
  },
  {
   "attachments": {},
   "cell_type": "markdown",
   "id": "c612fa0f",
   "metadata": {
    "colab_type": "text",
    "id": "DE56EVRvIfFJ"
   },
   "source": [
    "このように、演算子を使う際には、**記号の両側に値を書きます。**\n",
    "このとき、演算子の両側にひとつずつ空白を空けることが多いです。\n",
    "文法的な意味はありませんが、コードが読みやすくなります。\n",
    "この空白は Python のコーディング規約である [PEP8](https://pep8-ja.readthedocs.io/ja/latest/#section-14) でも推奨されています。"
   ]
  },
  {
   "cell_type": "code",
   "execution_count": null,
   "id": "765c7ea9",
   "metadata": {
    "colab": {
     "base_uri": "https://localhost:8080/",
     "height": 35
    },
    "colab_type": "code",
    "id": "BSsWGE_Ev9bH",
    "outputId": "3a1c9e29-c5de-4d34-b3b3-3a240378e4bd"
   },
   "outputs": [],
   "source": [
    "1 + 1"
   ]
  },
  {
   "cell_type": "markdown",
   "id": "8a4fc9e1",
   "metadata": {
    "colab_type": "text",
    "id": "ai1hzuv6v9bJ"
   },
   "source": [
    "値が代入されている変数との演算も下記のように行うことができます。"
   ]
  },
  {
   "cell_type": "code",
   "execution_count": null,
   "id": "fc994654",
   "metadata": {
    "colab": {
     "base_uri": "https://localhost:8080/",
     "height": 35
    },
    "colab_type": "code",
    "id": "yvA4BP5hIfFJ",
    "outputId": "cedf23b1-33b6-4f96-c655-9b64346e755c"
   },
   "outputs": [],
   "source": [
    "a + 2"
   ]
  },
  {
   "cell_type": "markdown",
   "id": "ae041260",
   "metadata": {
    "colab_type": "text",
    "id": "y6xkeITrv9bL"
   },
   "source": [
    "また、`int` と `float` は異なる型同士ですが、計算を行うことができます。\n",
    "`int` と `float` の演算結果の型は `float` になります。"
   ]
  },
  {
   "cell_type": "code",
   "execution_count": null,
   "id": "69b73dfc",
   "metadata": {
    "colab": {
     "base_uri": "https://localhost:8080/",
     "height": 35
    },
    "colab_type": "code",
    "id": "IjU6vwcdIfFM",
    "outputId": "21f73fdf-108e-4988-f2b4-4cfcffc219bf"
   },
   "outputs": [],
   "source": [
    "# 整数と実数で加算 -> 結果は実数\n",
    "a + b"
   ]
  },
  {
   "cell_type": "markdown",
   "id": "040c7d96",
   "metadata": {
    "colab_type": "text",
    "id": "PwsK4SxPIfFN"
   },
   "source": [
    "他の演算子の例を示します。"
   ]
  },
  {
   "cell_type": "code",
   "execution_count": null,
   "id": "9067ead0",
   "metadata": {
    "colab": {
     "base_uri": "https://localhost:8080/",
     "height": 35
    },
    "colab_type": "code",
    "id": "hL5QmnGgBYNF",
    "outputId": "d408993d-3a50-4e49-9e40-f15696984208"
   },
   "outputs": [],
   "source": [
    "# 整数と整数で減算 -> 結果は整数\n",
    "2 - 1"
   ]
  },
  {
   "cell_type": "code",
   "execution_count": null,
   "id": "5f2a3905",
   "metadata": {
    "colab": {
     "base_uri": "https://localhost:8080/",
     "height": 35
    },
    "colab_type": "code",
    "id": "huifgJVkv9bR",
    "outputId": "1b6ddcff-4a15-4306-b615-cc27c0ccb0b2"
   },
   "outputs": [],
   "source": [
    "# 実数と整数で減算 -> 結果は実数\n",
    "3.5 - 2"
   ]
  },
  {
   "cell_type": "code",
   "execution_count": null,
   "id": "472b9fa7",
   "metadata": {
    "colab": {
     "base_uri": "https://localhost:8080/",
     "height": 35
    },
    "colab_type": "code",
    "id": "v82yE4keBZeo",
    "outputId": "40c8b70c-1e5a-4649-c5d4-141a9cefc76e"
   },
   "outputs": [],
   "source": [
    "# 整数と整数で乗算 -> 結果は整数\n",
    "3 * 5"
   ]
  },
  {
   "cell_type": "code",
   "execution_count": null,
   "id": "82debd45",
   "metadata": {
    "colab": {
     "base_uri": "https://localhost:8080/",
     "height": 35
    },
    "colab_type": "code",
    "id": "kYYOMXTHv9bX",
    "outputId": "a1fde9ed-7a8f-4184-f2e4-86e1a76b6c3d"
   },
   "outputs": [],
   "source": [
    "# 実数と整数で乗算 -> 結果は実数\n",
    "2.5 * 2"
   ]
  },
  {
   "cell_type": "code",
   "execution_count": null,
   "id": "35618376",
   "metadata": {
    "colab": {
     "base_uri": "https://localhost:8080/",
     "height": 35
    },
    "colab_type": "code",
    "id": "KHRGnOcNBi05",
    "outputId": "a988ca7c-861f-4529-b243-c195573c0e2c"
   },
   "outputs": [],
   "source": [
    "# 整数と整数で除算 -> 結果は実数\n",
    "3 / 2"
   ]
  },
  {
   "cell_type": "code",
   "execution_count": null,
   "id": "9a1183cf",
   "metadata": {
    "colab": {
     "base_uri": "https://localhost:8080/",
     "height": 35
    },
    "colab_type": "code",
    "id": "NxnIvty-v9bd",
    "outputId": "d1057e6c-490d-4dfc-fea6-53b6121bda09"
   },
   "outputs": [],
   "source": [
    "# 整数と整数で除算 -> 結果は実数\n",
    "4 / 2"
   ]
  },
  {
   "cell_type": "markdown",
   "id": "405fd437",
   "metadata": {
    "colab_type": "text",
    "id": "TDJRJR5vIfFe"
   },
   "source": [
    "Python 3 では、 `/` 記号を用いて除算を行う場合、除数（割る数）と被除数（割られる数）が整数であっても、計算結果として実数が返ります。\n",
    "計算結果として実数を返す除算のことを特に、**真の除算 (true division)** と言います。\n",
    "一方、商（整数部分）を返すような除算演算子として、 `//` 記号が用意されています。 `/` 記号を 2 回、間を空けずに繰り返します。計算結果として商を返す除算のことを、 **切り捨て除算 (floor division)** と呼びます。\n",
    "商を計算したい場合に便利な演算子であるため、こちらも覚えておきましょう。"
   ]
  },
  {
   "cell_type": "code",
   "execution_count": null,
   "id": "2e350e41",
   "metadata": {
    "colab": {
     "base_uri": "https://localhost:8080/",
     "height": 35
    },
    "colab_type": "code",
    "id": "PFwX_4_pBbY0",
    "outputId": "260dd494-deb0-49c6-edb6-19d1662137e7"
   },
   "outputs": [],
   "source": [
    "# 整数と整数で切り捨て除算 -> 結果は整数\n",
    "3 // 2"
   ]
  },
  {
   "cell_type": "code",
   "execution_count": null,
   "id": "9df5afcf",
   "metadata": {
    "colab": {
     "base_uri": "https://localhost:8080/",
     "height": 35
    },
    "colab_type": "code",
    "id": "nCyFpJHKv9bh",
    "outputId": "32099b02-2f65-46c5-89d9-343396552ed9"
   },
   "outputs": [],
   "source": [
    "# 整数と整数で切り捨て除算 -> 結果は整数\n",
    "4 // 2"
   ]
  },
  {
   "cell_type": "markdown",
   "id": "6e490919",
   "metadata": {
    "colab_type": "text",
    "id": "Mywi7srHv9bj"
   },
   "source": [
    "また、ここで注意すべき点として、整数や実数と文字列の演算は基本的にエラーになります。"
   ]
  },
  {
   "cell_type": "code",
   "execution_count": null,
   "id": "2e38e03e",
   "metadata": {
    "colab": {
     "base_uri": "https://localhost:8080/",
     "height": 172
    },
    "colab_type": "code",
    "id": "ia8mAAr5v9bj",
    "outputId": "38cd2f68-c08d-4abe-c8bf-300d8c8b1154"
   },
   "outputs": [],
   "source": [
    "# error\n",
    "a + c"
   ]
  },
  {
   "cell_type": "markdown",
   "id": "de3655e1",
   "metadata": {
    "colab_type": "text",
    "id": "T24iNnwSv9bk"
   },
   "source": [
    "**エラーメッセージを読みましょう。**\n",
    "\n",
    "> TypeError: unsupported operand type(s) for +: 'int' and 'str'\n",
    "\n",
    "と言われています。「+ にとって int と str はサポートされていない被作用子（+ が作用する対象のこと。operand）です」と書かれています。「int に str を足す」ということはできないというわけです。\n",
    "\n",
    "このようにエラーメッセージからは自分のミスに関する情報を得ることができます。\n",
    "何を間違えたかはエラーをもとに調べれば大抵わかりますから、まずはエラーについて調べることを心がけましょう。\n",
    "\n",
    "`int` もしくは `float` と、 `str` の間の加算、減算、除算では上記のエラーが生じます。\n",
    "ただし、`str` と `int` の**乗算**は特別にサポートされており、計算を実行することができます。"
   ]
  },
  {
   "cell_type": "code",
   "execution_count": null,
   "id": "ddca8456",
   "metadata": {
    "colab": {
     "base_uri": "https://localhost:8080/",
     "height": 35
    },
    "colab_type": "code",
    "id": "oKJmWQKcv9bl",
    "outputId": "513c4f7e-081e-4b3f-826a-39e8e5885dff"
   },
   "outputs": [],
   "source": [
    "# str と int で乗算\n",
    "c * 3"
   ]
  },
  {
   "cell_type": "markdown",
   "id": "7e1d35ea",
   "metadata": {
    "colab_type": "text",
    "id": "xPX4dcGUv9bm"
   },
   "source": [
    "上のコードは、`c` という文字列を `3` 回繰り返す、という意味になります。"
   ]
  },
  {
   "cell_type": "markdown",
   "id": "fbd11fe9",
   "metadata": {
    "colab_type": "text",
    "id": "mmlvVMcIv9bm"
   },
   "source": [
    "`str` 同士は足し算を行うことができます。"
   ]
  },
  {
   "cell_type": "code",
   "execution_count": null,
   "id": "8704fbce",
   "metadata": {
    "colab": {
     "base_uri": "https://localhost:8080/",
     "height": 35
    },
    "colab_type": "code",
    "id": "DOK7H8LJv9bn",
    "outputId": "5654572a-9d44-423a-9ada-da324b5f7dfa"
   },
   "outputs": [],
   "source": [
    "name1 = 'Chainer'\n",
    "name2 = 'チュートリアル'\n",
    "\n",
    "name1 + name2"
   ]
  },
  {
   "cell_type": "markdown",
   "id": "3dfc64f0",
   "metadata": {
    "colab_type": "text",
    "id": "QoCq87hkv9bq"
   },
   "source": [
    "整数と文字列を連結したいこともあります。\n",
    "例えば、`1` という整数に、 `'番目'` という文字列を足して `'1番目'` という文字列を作りたいような場合です。\n",
    "その場合には、型を変換する**キャスト (cast)** という操作をする必要があります。\n",
    "\n",
    "何かを `int` にキャストしたい場合は `int()` という組み込み関数を使い、`str` にキャストしたい場合は `str()` という組み込み関数を使います。では、`1` という整数を `str` にキャストして、 `'番目'` という文字列と足し算を行ってみましょう。"
   ]
  },
  {
   "cell_type": "code",
   "execution_count": null,
   "id": "8d44ceda",
   "metadata": {
    "colab": {
     "base_uri": "https://localhost:8080/",
     "height": 35
    },
    "colab_type": "code",
    "id": "H8E1Puhmv9bq",
    "outputId": "31d58419-7b97-4bc6-f923-79f2c8fd9edb"
   },
   "outputs": [],
   "source": [
    "1"
   ]
  },
  {
   "cell_type": "code",
   "execution_count": null,
   "id": "3dc8dad6",
   "metadata": {
    "colab": {
     "base_uri": "https://localhost:8080/",
     "height": 35
    },
    "colab_type": "code",
    "id": "TlnTtXUnv9br",
    "outputId": "b970fbfe-4151-42f9-ad44-0e607f912e02"
   },
   "outputs": [],
   "source": [
    "type(1)"
   ]
  },
  {
   "cell_type": "code",
   "execution_count": null,
   "id": "4e02941f",
   "metadata": {
    "colab": {
     "base_uri": "https://localhost:8080/",
     "height": 35
    },
    "colab_type": "code",
    "id": "EK9fF95av9bt",
    "outputId": "a5ef7604-c6ed-4ffd-e19c-39b39496c752"
   },
   "outputs": [],
   "source": [
    "str(1)"
   ]
  },
  {
   "cell_type": "code",
   "execution_count": null,
   "id": "9728ec55",
   "metadata": {
    "colab": {
     "base_uri": "https://localhost:8080/",
     "height": 35
    },
    "colab_type": "code",
    "id": "JxGEBOZzv9bw",
    "outputId": "cca1f61a-82c9-4f12-9921-97068ab3a6d0"
   },
   "outputs": [],
   "source": [
    "type(str(1))"
   ]
  },
  {
   "cell_type": "code",
   "execution_count": null,
   "id": "7bdfb38b",
   "metadata": {
    "colab": {
     "base_uri": "https://localhost:8080/",
     "height": 35
    },
    "colab_type": "code",
    "id": "2boojYfbv9by",
    "outputId": "9ac453cd-d210-4f5c-fcac-1502f0b69482"
   },
   "outputs": [],
   "source": [
    "str(1) + '番目'"
   ]
  },
  {
   "attachments": {},
   "cell_type": "markdown",
   "id": "e61e031c",
   "metadata": {},
   "source": [
    "演算子の話から少しそれますが、フォーマット文字列を使用すると `+` を使用せずに、自然な文字列の中に変数の値を埋め込むことができます。\n",
    "フォーマット文字列の書き方はいくつかありますが、簡単な例を 2 つ紹介します。\n",
    "\n",
    "文字列を通常のクォーテーション (`\"\", ''`) の代わりに、`f` がついた `f\"\"` または `f''` で囲みます。\n",
    "すると、変数を波括弧で囲んで文字列に挿入すると、その部分に変数の値が埋め込まれます。"
   ]
  },
  {
   "cell_type": "code",
   "execution_count": null,
   "id": "cac28681",
   "metadata": {},
   "outputs": [],
   "source": [
    "d = 1\n",
    "f'{d}番目'"
   ]
  },
  {
   "attachments": {},
   "cell_type": "markdown",
   "id": "cd50161a",
   "metadata": {},
   "source": [
    "文字列に空の波括弧 `{}` を挿入して、文字列の後ろに `.format()` を続けて書くと、format 関数に渡された変数の値が `{}` の部分に埋め込まれます。"
   ]
  },
  {
   "cell_type": "code",
   "execution_count": null,
   "id": "0ff68efd",
   "metadata": {},
   "outputs": [],
   "source": [
    "d = 1\n",
    "'{}番目'.format(d)"
   ]
  },
  {
   "attachments": {},
   "cell_type": "markdown",
   "id": "a1c91dd7",
   "metadata": {
    "colab_type": "text",
    "id": "RzvUMnTQv9bz"
   },
   "source": [
    "演算子に話を戻します。`+=` や `-=` もよく使われる演算子です。\n",
    "これは、演算と代入を合わせて行うもので、**累積代入文 (augmented assignment statement)** と呼ばれます。\n",
    "\n",
    "下記に示すとおり、`+=` では左辺の変数に対して右辺の値を足した結果で、左辺の変数を更新します。"
   ]
  },
  {
   "cell_type": "code",
   "execution_count": null,
   "id": "fc24d74e",
   "metadata": {
    "colab": {
     "base_uri": "https://localhost:8080/",
     "height": 35
    },
    "colab_type": "code",
    "id": "g7g0hOrOv9b0",
    "outputId": "914559f8-251d-4d5c-9edd-6cc9a778c484"
   },
   "outputs": [],
   "source": [
    "# 累積代入文を使わない場合\n",
    "count = 0\n",
    "count = count + 1\n",
    "count"
   ]
  },
  {
   "cell_type": "code",
   "execution_count": null,
   "id": "179835ad",
   "metadata": {
    "colab": {
     "base_uri": "https://localhost:8080/",
     "height": 35
    },
    "colab_type": "code",
    "id": "bdgvqEjZv9b2",
    "outputId": "0cbef171-cbc1-4cb8-b965-1f52fcd005a6"
   },
   "outputs": [],
   "source": [
    "# 累積代入文を使う場合\n",
    "count = 0\n",
    "count += 1\n",
    "count"
   ]
  },
  {
   "cell_type": "markdown",
   "id": "c2cecda1",
   "metadata": {
    "colab_type": "text",
    "id": "AZ7QMIt-v9b3"
   },
   "source": [
    "四則演算の全てで累積代入文を利用することができます。\n",
    "つまり、`+=`, `-=`, `*=`, `/=` がそれぞれ利用可能です。"
   ]
  },
  {
   "cell_type": "markdown",
   "id": "43597cda",
   "metadata": {
    "colab_type": "text",
    "id": "36GMdun-IfFn"
   },
   "source": [
    "Python には、他にも幾つかの算術演算子が用意されています。\n",
    "例えば以下の演算子です。\n",
    "\n",
    "| 演算 | 記号 |\n",
    "|------|------|\n",
    "| 累乗 | `**` |\n",
    "|  剰余　 | `%` |\n",
    "\n",
    "`**` を使うと、$2^3$ は以下のように記述することができます。"
   ]
  },
  {
   "cell_type": "code",
   "execution_count": null,
   "id": "b81011ba",
   "metadata": {
    "colab": {
     "base_uri": "https://localhost:8080/",
     "height": 35
    },
    "colab_type": "code",
    "id": "cK6zHxguIfFo",
    "outputId": "eb9bdd74-8294-49f5-aae4-a9566f3d7ddf"
   },
   "outputs": [],
   "source": [
    "# 累乗\n",
    "2 ** 3"
   ]
  },
  {
   "cell_type": "markdown",
   "id": "5996a20f",
   "metadata": {
    "colab_type": "text",
    "id": "g8RG0jTDv9b6"
   },
   "source": [
    "`%` を使って、`9` を `2` で割った余りを計算してみましょう。"
   ]
  },
  {
   "cell_type": "code",
   "execution_count": null,
   "id": "4aa043ef",
   "metadata": {
    "colab": {
     "base_uri": "https://localhost:8080/",
     "height": 35
    },
    "colab_type": "code",
    "id": "CbsiwPcev9b6",
    "outputId": "27688f90-fef0-4d2d-8633-960ea0e8b128"
   },
   "outputs": [],
   "source": [
    "# 剰余\n",
    "9 % 2"
   ]
  },
  {
   "cell_type": "markdown",
   "id": "5c61b858",
   "metadata": {
    "colab_type": "text",
    "id": "Z62QzE-4Bc4a"
   },
   "source": [
    "### 比較演算子\n",
    "\n",
    "比較演算子は、2 つの値の比較を行うための演算子です。\n",
    "\n",
    "| 演算 | 記号 |\n",
    "|------|------|\n",
    "| 小なり | `<` |\n",
    "| 大なり | `>` |\n",
    "| 以下 | `<=` |\n",
    "| 以上 | `>=` |\n",
    "| 等しい | `==` |\n",
    "| 等しくない | `!=` |\n",
    "\n",
    "比較演算子は、その両側に与えられた値が決められた条件を満たしているかどうか計算し、満たしている場合は `True` を、満たしていない場合は `False` を返します。\n",
    "`True` や `False` は、**ブール (bool) 型**と呼ばれる型を持った値です。\n",
    "ブール型の値は `True` もしくは `False` の 2 つしか存在しません。\n",
    "\n",
    "いくつかの比較演算子の計算例を示します。"
   ]
  },
  {
   "cell_type": "code",
   "execution_count": null,
   "id": "17cec9d7",
   "metadata": {
    "colab": {
     "base_uri": "https://localhost:8080/",
     "height": 35
    },
    "colab_type": "code",
    "id": "5AXOptIWCN53",
    "outputId": "2525fafa-f2dd-40b6-adaa-9af505b059c4"
   },
   "outputs": [],
   "source": [
    "1 < 2"
   ]
  },
  {
   "cell_type": "code",
   "execution_count": null,
   "id": "505bd285",
   "metadata": {
    "colab": {
     "base_uri": "https://localhost:8080/",
     "height": 35
    },
    "colab_type": "code",
    "id": "ETSRMdkDv9b-",
    "outputId": "fb2a62ee-87a1-488a-9a77-e99854e5a083"
   },
   "outputs": [],
   "source": [
    "# 型の確認\n",
    "type(1 < 2)"
   ]
  },
  {
   "cell_type": "code",
   "execution_count": null,
   "id": "a0ae2738",
   "metadata": {
    "colab": {
     "base_uri": "https://localhost:8080/",
     "height": 35
    },
    "colab_type": "code",
    "id": "wR2OPEwiCP5_",
    "outputId": "bd6701e6-b948-4ebb-f852-12ac81244631"
   },
   "outputs": [],
   "source": [
    "2 == 5"
   ]
  },
  {
   "cell_type": "code",
   "execution_count": null,
   "id": "8941595f",
   "metadata": {
    "colab": {
     "base_uri": "https://localhost:8080/",
     "height": 35
    },
    "colab_type": "code",
    "id": "TfEDslvKCQ7o",
    "outputId": "629c30b4-ab73-49be-e8dc-e9bd78ba460b"
   },
   "outputs": [],
   "source": [
    "1 != 2"
   ]
  },
  {
   "cell_type": "code",
   "execution_count": null,
   "id": "6a61a975",
   "metadata": {
    "colab": {
     "base_uri": "https://localhost:8080/",
     "height": 35
    },
    "colab_type": "code",
    "id": "W1v_F8-7CWI-",
    "outputId": "789351f8-d4a5-41a7-8732-72f5ab885abd"
   },
   "outputs": [],
   "source": [
    "3 >= 3"
   ]
  },
  {
   "cell_type": "code",
   "execution_count": null,
   "id": "c158058e",
   "metadata": {
    "colab": {
     "base_uri": "https://localhost:8080/",
     "height": 35
    },
    "colab_type": "code",
    "id": "XapxlGSYCSOU",
    "outputId": "7f4fac18-bed4-490d-cb25-598737c2f7e2"
   },
   "outputs": [],
   "source": [
    "'test' == 'test'"
   ]
  },
  {
   "cell_type": "markdown",
   "id": "fe10240d",
   "metadata": {
    "colab_type": "text",
    "id": "aBzVaMJ1IfF7"
   },
   "source": [
    "等しいかどうかを判定する比較演算子 `==` を使う際は、代入演算子 `=` と間違えないように気をつけてください。"
   ]
  },
  {
   "cell_type": "markdown",
   "id": "9cc1c91a",
   "metadata": {
    "colab_type": "text",
    "id": "VsBRE0Wyv9ca"
   },
   "source": [
    "## 複合データ型\n",
    "\n",
    "これまでは `a = 1` のように 1 つの変数に 1 つの値を代入する場合を扱ってきましたが、複数の値をまとめて取り扱いたい場面もあります。\n",
    "Python では複数の変数や値をまとめて扱うのに便利な、以下の 3 つの複合データ型があります。\n",
    "\n",
    "- リスト (list)\n",
    "- タプル (tuple)\n",
    "- 辞書 (dictionary)"
   ]
  },
  {
   "cell_type": "markdown",
   "id": "5d72c3bb",
   "metadata": {
    "colab_type": "text",
    "id": "S1TLaajMDtmr"
   },
   "source": [
    "### リスト\n",
    "\n",
    "複数の変数を `,` （カンマ）区切りで並べ、それらの全体を `[ ]` で囲んだものを **リスト (list)** と言います。\n",
    "リストに含まれる値を**要素**と呼び、整数の**インデックス** （要素番号）を使ってアクセスします。"
   ]
  },
  {
   "cell_type": "code",
   "execution_count": null,
   "id": "26afb403",
   "metadata": {
    "colab": {
     "base_uri": "https://localhost:8080/",
     "height": 35
    },
    "colab_type": "code",
    "id": "MJ7ZYj82D-a1",
    "outputId": "970de678-1f56-4078-8f10-c7042c0fb8e5"
   },
   "outputs": [],
   "source": [
    "# リスト型の変数を定義\n",
    "numbers = [4, 5, 6, 7]\n",
    "\n",
    "# 値の確認\n",
    "print(numbers)"
   ]
  },
  {
   "cell_type": "code",
   "execution_count": null,
   "id": "9783ecff",
   "metadata": {
    "colab": {
     "base_uri": "https://localhost:8080/",
     "height": 35
    },
    "colab_type": "code",
    "id": "HH3NT-y4EC4Z",
    "outputId": "cbcc163e-040f-4878-d3f5-65b6659bffa3"
   },
   "outputs": [],
   "source": [
    "# 型の確認\n",
    "type(numbers)"
   ]
  },
  {
   "cell_type": "markdown",
   "id": "19d592a2",
   "metadata": {
    "colab_type": "text",
    "id": "Rk_jY_TTIfGY"
   },
   "source": [
    "`numbers` には 4 つの数値が入っており、**要素数** は 4 です。\n",
    "リストの要素数は、リストの**長さ (length)** とも呼ばれ、組み込み関数の `len()` を用いて取得することができます。\n",
    "`len()` はよく使う関数であるため、覚えておきましょう。"
   ]
  },
  {
   "cell_type": "code",
   "execution_count": null,
   "id": "16a3d60b",
   "metadata": {
    "colab": {
     "base_uri": "https://localhost:8080/",
     "height": 35
    },
    "colab_type": "code",
    "id": "DK6aH0AaoELi",
    "outputId": "76d0dab8-bd1b-4c86-95b8-e25d6cca02c5"
   },
   "outputs": [],
   "source": [
    "# 要素数の確認\n",
    "len(numbers)"
   ]
  },
  {
   "cell_type": "markdown",
   "id": "888d0193",
   "metadata": {
    "colab_type": "text",
    "id": "RiJeRUdrEEUq"
   },
   "source": [
    "リストの各要素へアクセスする方法はいくつかあります。\n",
    "最も簡単な方法は `[]` を使ってアクセスしたい要素番号を指定して、リストから値を取り出したり、その位置の値を書き換えたりする方法です。\n",
    "ここで、注意が必要な点として、Python では先頭の要素のインデックス番号が `0` である点があります。\n",
    "インデックス番号 `1` は 2 番目の要素を指します。"
   ]
  },
  {
   "cell_type": "code",
   "execution_count": null,
   "id": "69fa3208",
   "metadata": {
    "colab": {
     "base_uri": "https://localhost:8080/",
     "height": 35
    },
    "colab_type": "code",
    "id": "DeCsf_L1Em29",
    "outputId": "4cfc90bc-62e4-466d-ab0d-0a29877decef"
   },
   "outputs": [],
   "source": [
    "# 先頭の要素にアクセス\n",
    "numbers[0]"
   ]
  },
  {
   "cell_type": "code",
   "execution_count": null,
   "id": "db61236a",
   "metadata": {
    "colab": {
     "base_uri": "https://localhost:8080/",
     "height": 35
    },
    "colab_type": "code",
    "id": "ox-Ma4yv5xqO",
    "outputId": "7c6ee95d-c6cd-472d-9ea5-c4a44e8d9f0f"
   },
   "outputs": [],
   "source": [
    "# 先頭から3番目の要素にアクセス\n",
    "numbers[2]"
   ]
  },
  {
   "cell_type": "code",
   "execution_count": null,
   "id": "0229a78c",
   "metadata": {
    "colab": {},
    "colab_type": "code",
    "id": "ve-ETFIrv9cg"
   },
   "outputs": [],
   "source": [
    "# 2 番目の要素を書き換え\n",
    "numbers[1] = 10"
   ]
  },
  {
   "cell_type": "code",
   "execution_count": null,
   "id": "b21a9bc9",
   "metadata": {
    "colab": {
     "base_uri": "https://localhost:8080/",
     "height": 35
    },
    "colab_type": "code",
    "id": "AXpG-tqNv9cg",
    "outputId": "1fa368f6-7164-4896-89fd-981d033adaa3"
   },
   "outputs": [],
   "source": [
    "# 値の確認\n",
    "numbers"
   ]
  },
  {
   "cell_type": "markdown",
   "id": "646cdb6d",
   "metadata": {
    "colab_type": "text",
    "id": "kOVYiVOwIfGW"
   },
   "source": [
    "また、インデックスに負の値を指定すると、末尾からの位置となります。\n",
    "要素番号 `-1` で最後の要素を参照することができます。"
   ]
  },
  {
   "cell_type": "code",
   "execution_count": null,
   "id": "0f0f9123",
   "metadata": {
    "colab": {
     "base_uri": "https://localhost:8080/",
     "height": 35
    },
    "colab_type": "code",
    "id": "WSaIdvb4IfGX",
    "outputId": "5bbb1cee-081d-4a68-a918-ad275b3b1172"
   },
   "outputs": [],
   "source": [
    "# 末尾の要素にアクセス\n",
    "numbers[-1]"
   ]
  },
  {
   "cell_type": "code",
   "execution_count": null,
   "id": "c1689d98",
   "metadata": {
    "colab": {
     "base_uri": "https://localhost:8080/",
     "height": 35
    },
    "colab_type": "code",
    "id": "jP5fkl3V54WL",
    "outputId": "aaf2ac71-f21a-4c41-aab4-337e25f54331"
   },
   "outputs": [],
   "source": [
    "# 末尾から3番目の要素にアクセス\n",
    "numbers[-3]"
   ]
  },
  {
   "cell_type": "markdown",
   "id": "3de854f3",
   "metadata": {
    "colab_type": "text",
    "id": "DLzLjTQ8EoG9"
   },
   "source": [
    "次に、リストから一度に複数の要素を取り出す操作である**スライス (slice)** を紹介します。\n",
    "`開始位置:終了位置` のようにコロン `:` を用いてインデックスを範囲指定し、複数の部分要素にアクセスします。\n",
    "このスライスの処理は、この後の章でも多用するため、慣れておきましょう。\n",
    "\n",
    "例えば、先頭から 2 つの要素を取り出したい場合、以下のように指定します。"
   ]
  },
  {
   "cell_type": "code",
   "execution_count": null,
   "id": "26c665c5",
   "metadata": {
    "colab": {
     "base_uri": "https://localhost:8080/",
     "height": 35
    },
    "colab_type": "code",
    "id": "MPI2H38DEy2N",
    "outputId": "623cb4f8-54fc-4f34-924c-7da10dacdeef"
   },
   "outputs": [],
   "source": [
    "numbers[0:2]"
   ]
  },
  {
   "cell_type": "markdown",
   "id": "59376f2f",
   "metadata": {
    "colab_type": "text",
    "id": "gK6_JXXTE2AY"
   },
   "source": [
    "`開始位置:終了位置` と指定することで、開始位置から**終了位置のひとつ手前**までの要素を抽出します。 \n",
    "終了位置に指定したインデックスの値は含まれないことに注意してください。\n",
    "\n",
    "また、指定する開始番号が `0` である場合、以下のような略記がよく用いられます。"
   ]
  },
  {
   "cell_type": "code",
   "execution_count": null,
   "id": "9723cd93",
   "metadata": {
    "colab": {
     "base_uri": "https://localhost:8080/",
     "height": 35
    },
    "colab_type": "code",
    "id": "hBo2_C5aFPHR",
    "outputId": "1b249507-b615-4adf-dd4b-3c399799ba88"
   },
   "outputs": [],
   "source": [
    "numbers[:2]"
   ]
  },
  {
   "cell_type": "markdown",
   "id": "77795760",
   "metadata": {
    "colab_type": "text",
    "id": "Qqem8sujFQVP"
   },
   "source": [
    "このように、先頭のインデックスは省略することができます。\n",
    "このような記法を使う場合は、終了位置を示す数字を**取り出したい要素の個数**と捉えて、**先頭から 2 つを取り出す**操作だと考えると分かりやすくなります。\n",
    "\n",
    "同様に、ある位置からリストの末尾までを取り出す場合も、終了位置のインデックスを省略することができます。\n",
    "例えば、2 個目の要素から最後までを取り出すには以下のようにします。"
   ]
  },
  {
   "cell_type": "code",
   "execution_count": null,
   "id": "97df09b0",
   "metadata": {
    "colab": {
     "base_uri": "https://localhost:8080/",
     "height": 35
    },
    "colab_type": "code",
    "id": "gItFJqoUFYzX",
    "outputId": "2bc2f7e8-b6cb-4bbb-8245-ec8835e87447"
   },
   "outputs": [],
   "source": [
    "numbers[1:]"
   ]
  },
  {
   "cell_type": "markdown",
   "id": "9417de56",
   "metadata": {
    "colab_type": "text",
    "id": "RRlf3vqOv9cq"
   },
   "source": [
    "この場合は、取り出される要素の個数は `len(numbers) - 1` 個となることに注意してください。  \n",
    "以上から、`numbers[:2]` と `numbers[2:]` は、ちょうど 2 個目の要素を境に `numbers` の要素を 2 分割した前半部分と後半部分になっています。\n",
    "ここで、インデックスが 2 の要素自体は**後半部に含まれる**ということに注意してください。\n",
    "また、開始位置も終了位置も省略した場合は、すべての要素が選択されます。\n",
    "\n",
    "一見ややこしい挙動のようですが、ここで下画像のようにインデックスは要素の間にふられているとすると理解しやすくなります。  \n",
    "例えば `numbers[:2]` は「2の位置\"まで\"」だから2個目の要素は含まないというわけです。  \n",
    "![indexのイメージ](./images/02/02_indexing.jpg)\n",
    "\n",
    "ちなみにこれは[Pythonの公式ドキュメント](https://docs.python.org/ja/3/tutorial/introduction.html#strings)で紹介されている覚え方です。"
   ]
  },
  {
   "cell_type": "markdown",
   "id": "cc5f4baa",
   "metadata": {},
   "source": [
    "全ての要素を選択する場合、下記のように書くこともできます。"
   ]
  },
  {
   "cell_type": "code",
   "execution_count": null,
   "id": "dfa4873a",
   "metadata": {
    "colab": {
     "base_uri": "https://localhost:8080/",
     "height": 35
    },
    "colab_type": "code",
    "id": "nav8WoxNv9cq",
    "outputId": "b35c3b9d-f123-42a4-9d5b-505a31be278e"
   },
   "outputs": [],
   "source": [
    "numbers[:]"
   ]
  },
  {
   "cell_type": "markdown",
   "id": "4f135d5e",
   "metadata": {
    "colab_type": "text",
    "id": "9qPrP6sYv9cs"
   },
   "source": [
    "現状では、`numbers[:]` と `numbers` の結果が同じであるため、どのように使用するか疑問に思われるかも知れません。  \n",
    "しかし、後の章では NumPy というライブラリを用いてリストの中にリストが入ったような**多次元配列 (multidimensional array)** を扱っていきます。  \n",
    "そして多次元配列を用いて行列を表す場合には、`0 列目のすべての値`を抽出するために `[:, 0]` のような記法を用いるケースが登場します。  \n",
    "これは Python 標準の機能ではありませんが、Python 標準のスライス表記を拡張したものになっています。\n"
   ]
  },
  {
   "cell_type": "markdown",
   "id": "1185bbb0",
   "metadata": {
    "colab_type": "text",
    "id": "AyoiOU5OFfET"
   },
   "source": [
    "リストは数値以外に、文字列を扱うこともでき、また複数の型を同一のリスト内に混在させることもできます。"
   ]
  },
  {
   "cell_type": "code",
   "execution_count": null,
   "id": "aa780796",
   "metadata": {
    "colab": {
     "base_uri": "https://localhost:8080/",
     "height": 35
    },
    "colab_type": "code",
    "id": "9JglgRiWFyo8",
    "outputId": "f8700d40-519f-4e92-db32-60fcadc145c0"
   },
   "outputs": [],
   "source": [
    "# 文字列を格納したリスト\n",
    "array = ['hello', 'world']\n",
    "array"
   ]
  },
  {
   "cell_type": "code",
   "execution_count": null,
   "id": "97d156c0",
   "metadata": {
    "colab": {
     "base_uri": "https://localhost:8080/",
     "height": 35
    },
    "colab_type": "code",
    "id": "Kcf8MyrBv9cu",
    "outputId": "c5f989f4-138a-4a1c-ac4a-60760f318618"
   },
   "outputs": [],
   "source": [
    "# 複数の型が混在したリスト\n",
    "array = [1, 1.2, 'Chainer']\n",
    "array"
   ]
  },
  {
   "cell_type": "markdown",
   "id": "3a65b9d9",
   "metadata": {
    "colab_type": "text",
    "id": "9fKT2sjNv9cu"
   },
   "source": [
    "リストにリストを代入することもできます。\n",
    "また、Python 標準のリストでは入れ子になったリスト内の要素数がばらばらでも問題ありません。"
   ]
  },
  {
   "cell_type": "code",
   "execution_count": null,
   "id": "08e19150",
   "metadata": {
    "colab": {
     "base_uri": "https://localhost:8080/",
     "height": 35
    },
    "colab_type": "code",
    "id": "Q8JxfHS8v9cv",
    "outputId": "572e4d48-aae1-46e9-cf6a-f2fbf1d68ac4"
   },
   "outputs": [],
   "source": [
    "array = [[1, 1.2, 'Chainer', True], [3.2, 'Tutorial']]\n",
    "array"
   ]
  },
  {
   "cell_type": "markdown",
   "id": "d2cdaaf2",
   "metadata": {
    "colab_type": "text",
    "id": "5lYy-LP6F3wP"
   },
   "source": [
    "リストを使う際に頻出する操作として、**リストへの値の追加**があります。\n",
    "リスト型には `append()` というメソッドが定義されており、これを用いてリストの末尾に新しい値を追加することができます。\n",
    "\n",
    "上記の `array` に値を追加してみましょう。"
   ]
  },
  {
   "cell_type": "code",
   "execution_count": null,
   "id": "a998a830",
   "metadata": {
    "colab": {},
    "colab_type": "code",
    "id": "RmgtEN8Lv9cw"
   },
   "outputs": [],
   "source": [
    "# 末尾に 2.5 を追加\n",
    "array.append(2.5)"
   ]
  },
  {
   "cell_type": "code",
   "execution_count": null,
   "id": "2dd0f600",
   "metadata": {
    "colab": {
     "base_uri": "https://localhost:8080/",
     "height": 35
    },
    "colab_type": "code",
    "id": "2E8q5y94v9cx",
    "outputId": "c2993fd6-a0f4-4786-b61a-f5462cae0817"
   },
   "outputs": [],
   "source": [
    "# 値の確認\n",
    "array"
   ]
  },
  {
   "cell_type": "markdown",
   "id": "2f8643ac",
   "metadata": {
    "colab_type": "text",
    "id": "y5dQJA57v9cz"
   },
   "source": [
    "また、今後頻出する処理として、**空のリスト**を定義しておき、そこに後段の処理の中で適宜新たな要素を追加していくという使い方があります。"
   ]
  },
  {
   "cell_type": "code",
   "execution_count": null,
   "id": "b34283d4",
   "metadata": {
    "colab": {
     "base_uri": "https://localhost:8080/",
     "height": 35
    },
    "colab_type": "code",
    "id": "00AEmnpxGPky",
    "outputId": "7f95e646-3264-4f63-cb58-98fc6bd42e73"
   },
   "outputs": [],
   "source": [
    "# 空のリストを定義\n",
    "array = []\n",
    "\n",
    "# 空のリストに要素を追加\n",
    "array.append('Chainer')\n",
    "array.append('チュートリアル')\n",
    "\n",
    "array"
   ]
  },
  {
   "cell_type": "markdown",
   "id": "c5a20482",
   "metadata": {
    "colab_type": "text",
    "id": "CV1072C3M7Qy"
   },
   "source": [
    "### タプル\n",
    "\n",
    "**タプル (tuple)** はリストと同様に複数の要素をまとめた型ですが、リストとは異なる点として、定義した後に**中の要素を変更できない**という性質を持ちます。\n",
    "\n",
    "タプルの定義には `( )`を用います。"
   ]
  },
  {
   "cell_type": "code",
   "execution_count": null,
   "id": "37f00e20",
   "metadata": {
    "colab": {
     "base_uri": "https://localhost:8080/",
     "height": 35
    },
    "colab_type": "code",
    "id": "mo4lGZN6NGAI",
    "outputId": "8234b24e-fd6d-4e77-f409-0681ad27c406"
   },
   "outputs": [],
   "source": [
    "# タプルを定義\n",
    "array = (4, 5, 6, 7)\n",
    "array"
   ]
  },
  {
   "cell_type": "code",
   "execution_count": null,
   "id": "08ea9c4a",
   "metadata": {
    "colab": {
     "base_uri": "https://localhost:8080/",
     "height": 35
    },
    "colab_type": "code",
    "id": "LEUgknZov9c3",
    "outputId": "96b964b2-97ef-4312-d552-ee24b5d47238"
   },
   "outputs": [],
   "source": [
    "# 型の確認\n",
    "type(array)"
   ]
  },
  {
   "cell_type": "markdown",
   "id": "c1a68d08",
   "metadata": {
    "colab_type": "text",
    "id": "9w2M0A02v9c3"
   },
   "source": [
    "タプルの定義する際に `( )` を使用したため、要素へのアクセスも `( )` を使うように感じるかもしれませんが、実際にはリストと同様 `[ ]` を使用します。  "
   ]
  },
  {
   "cell_type": "code",
   "execution_count": null,
   "id": "ade38e5d",
   "metadata": {
    "colab": {
     "base_uri": "https://localhost:8080/",
     "height": 35
    },
    "colab_type": "code",
    "id": "Fq7zIHMfNIXG",
    "outputId": "8cc0dcde-bfc6-4d74-cb73-6a716394bb98"
   },
   "outputs": [],
   "source": [
    "# 先頭の要素へアクセス\n",
    "array[0]"
   ]
  },
  {
   "cell_type": "code",
   "execution_count": null,
   "id": "a0136b33",
   "metadata": {
    "colab": {
     "base_uri": "https://localhost:8080/",
     "height": 35
    },
    "colab_type": "code",
    "id": "3XdB2S5pv9c4",
    "outputId": "c270d121-31e8-4b38-f1c7-0f15b49f4b1e"
   },
   "outputs": [],
   "source": [
    "# リストと同様、スライスも使用可能\n",
    "array[:3]"
   ]
  },
  {
   "cell_type": "markdown",
   "id": "834e8ffb",
   "metadata": {
    "colab_type": "text",
    "id": "KjdkYtSmNSl3"
   },
   "source": [
    "先述の通り、タプルは各要素の値を変更することができません。\n",
    "この性質は、定数項などプログラムの途中で書き換わってしまうことが望ましくないものをまとめて扱うのに便利です。\n",
    "\n",
    "実際に、タプルの要素に値の書き換えを行うとエラーが発生します。"
   ]
  },
  {
   "cell_type": "code",
   "execution_count": null,
   "id": "049de8c9",
   "metadata": {
    "colab": {
     "base_uri": "https://localhost:8080/",
     "height": 172
    },
    "colab_type": "code",
    "id": "DRoToOjUNI51",
    "outputId": "3db3cb2f-673f-4463-dbe3-82ced4e09830"
   },
   "outputs": [],
   "source": [
    "# error\n",
    "array[0] = 10"
   ]
  },
  {
   "cell_type": "markdown",
   "id": "435a0548",
   "metadata": {
    "colab_type": "text",
    "id": "6aq_3yNZv9c6"
   },
   "source": [
    "`tuple` のように中身が変更できない性質のことを**イミュータブル (immutable)**であると言います。反対に、`list` のように中身が変更できる性質のことを**ミュータブル (mutable)**であると言います\n",
    "\n",
    "タプルも Chainer でデータセットを扱うときなどに頻出する型です。その性質と取り扱い方を覚えておきましょう。"
   ]
  },
  {
   "cell_type": "markdown",
   "id": "9a8fc72f",
   "metadata": {
    "colab_type": "text",
    "id": "nV8Lp5jLNO66"
   },
   "source": [
    "### 辞書\n",
    "\n",
    "リストやタプルでは、複数の値をまとめて扱うことができました。\n",
    "そこで、定期テストの結果をまとめることを考えてみましょう。\n",
    "\n",
    "例えば、数学 90 点、理科 75 点、英語 80 点だったという結果を `scores = [90, 75, 80]` とリストで表してみます。\n",
    "しかし、これでは**何番目がどの教科の点数に対応するか**、一見して分かりにくいと思われます。\n",
    "\n",
    "Python の `dict` 型は、**キー (key)** とそれに対応する**値 (value)** をセットにして格納することができる型であり、このようなときに便利です。\n",
    "\n",
    "リストやタプルでは、各要素にアクセスする際に整数のインデックスを用いていましたが、辞書ではキーでインデックス化されているため、整数や文字列など、色々なものを使って要素を指定することができます。\n",
    "\n",
    "辞書は `{}` を用いて定義し、要素にアクセスする際には、リストやタプルと同様に `[ ]` を使用し、`[ ]` の中にキーを指定して対応する値を取り出します。"
   ]
  },
  {
   "cell_type": "markdown",
   "id": "5dc490d7",
   "metadata": {},
   "source": [
    "`[ ]` による要素へのアクセスは複数の要素を持つ型において一般的な記法なのがわかると思います。  \n",
    "要素のどれにアクセスするのかを、リストやタプルではインデックスで、辞書ではキーで指定するわけです。"
   ]
  },
  {
   "cell_type": "code",
   "execution_count": null,
   "id": "f1da3432",
   "metadata": {
    "colab": {
     "base_uri": "https://localhost:8080/",
     "height": 35
    },
    "colab_type": "code",
    "id": "NyxphI5fNMO8",
    "outputId": "c4d9a198-171f-4c0e-ec96-de8cdc161c0d"
   },
   "outputs": [],
   "source": [
    "# 辞書を定義\n",
    "scores = {'Math': 90, 'Science': 75, 'English': 80 }\n",
    "scores"
   ]
  },
  {
   "cell_type": "code",
   "execution_count": null,
   "id": "672cbb0b",
   "metadata": {
    "colab": {
     "base_uri": "https://localhost:8080/",
     "height": 35
    },
    "colab_type": "code",
    "id": "M-V2XOEdNu2a",
    "outputId": "ee4bdf90-c4e5-4a92-a6d0-d79e3bcf2b1c"
   },
   "outputs": [],
   "source": [
    "# key が Math の value にアクセス\n",
    "scores['Math'] "
   ]
  },
  {
   "cell_type": "code",
   "execution_count": null,
   "id": "86aa1845",
   "metadata": {
    "colab": {
     "base_uri": "https://localhost:8080/",
     "height": 35
    },
    "colab_type": "code",
    "id": "TA5V7SUBv9c8",
    "outputId": "90c16e6d-1de9-4931-efbe-b2164e075b6b"
   },
   "outputs": [],
   "source": [
    "# key に日本語を使用することも可能\n",
    "scores = {'数学': 90, '理科': 75, '英語': 80}\n",
    "scores"
   ]
  },
  {
   "cell_type": "code",
   "execution_count": null,
   "id": "6760ef71",
   "metadata": {
    "colab": {
     "base_uri": "https://localhost:8080/",
     "height": 35
    },
    "colab_type": "code",
    "id": "IL2y81t-v9c9",
    "outputId": "7ea8f85a-c3d2-4ad2-cda5-74bd524868f3"
   },
   "outputs": [],
   "source": [
    "scores['数学']"
   ]
  },
  {
   "cell_type": "markdown",
   "id": "2174d166",
   "metadata": {
    "colab_type": "text",
    "id": "Jd_XpPMqfrSL"
   },
   "source": [
    "他の人が定義した辞書に、**どのようなキーが存在するのか**を調べたいときがあります。\n",
    "辞書には、そのような場合に使える便利なメソッドがいくつか存在します。\n",
    "\n",
    "- `keys()`: キーのリストを取得。`dict_keys` というリストと性質が似た型が返る\n",
    "- `values()`: 値のリストを取得。`dict_values` というリストと性質が似た型が返る\n",
    "- `items()`: 各要素の `(key, value)` のタプルが並んだリストを取得。`dict_items` というリストと性質が似た型が返る"
   ]
  },
  {
   "cell_type": "code",
   "execution_count": null,
   "id": "c551d923",
   "metadata": {
    "colab": {
     "base_uri": "https://localhost:8080/",
     "height": 35
    },
    "colab_type": "code",
    "id": "FkJjSlbShKjK",
    "outputId": "93597067-1c5e-4ab0-ab5f-3301524f6bff"
   },
   "outputs": [],
   "source": [
    "# キーのリスト\n",
    "scores.keys()"
   ]
  },
  {
   "cell_type": "code",
   "execution_count": null,
   "id": "ee9b6b24",
   "metadata": {
    "colab": {
     "base_uri": "https://localhost:8080/",
     "height": 35
    },
    "colab_type": "code",
    "id": "YOAOTDtUhNBz",
    "outputId": "ad624c25-5b59-4544-dde2-94ec3adde7ea"
   },
   "outputs": [],
   "source": [
    "# 値のリスト\n",
    "scores.values()"
   ]
  },
  {
   "cell_type": "code",
   "execution_count": null,
   "id": "a63f2999",
   "metadata": {
    "colab": {
     "base_uri": "https://localhost:8080/",
     "height": 35
    },
    "colab_type": "code",
    "id": "mWA7opwAhVEa",
    "outputId": "26ee1d21-3011-49df-f1ff-e6188e698b1c"
   },
   "outputs": [],
   "source": [
    "# (キー, 値)というタプルを要素とするリスト\n",
    "scores.items()"
   ]
  },
  {
   "cell_type": "markdown",
   "id": "5e707489",
   "metadata": {
    "colab_type": "text",
    "id": "I9WEXgSZv9dC"
   },
   "source": [
    "`dict_keys`, `dict_values`, `dict_items` と新しい型が登場しましたが、これは辞書型特有の型であり厳密には標準のリストとは異なりますが、リストと性質の似た型であるという程度の認識で問題ありません。"
   ]
  },
  {
   "cell_type": "markdown",
   "id": "33c185d4",
   "metadata": {
    "colab_type": "text",
    "id": "qpoTmSY8bTDw"
   },
   "source": [
    "辞書に要素を追加する場合は、新しいキーを指定して値を代入します。"
   ]
  },
  {
   "cell_type": "code",
   "execution_count": null,
   "id": "e21107f3",
   "metadata": {
    "colab": {},
    "colab_type": "code",
    "id": "nDZ4RRcjnERu"
   },
   "outputs": [],
   "source": [
    "scores['国語'] = 85"
   ]
  },
  {
   "cell_type": "code",
   "execution_count": null,
   "id": "9371cd26",
   "metadata": {
    "colab": {
     "base_uri": "https://localhost:8080/",
     "height": 35
    },
    "colab_type": "code",
    "id": "P0HJVZJSnKal",
    "outputId": "700a1c1a-d175-40c9-c008-56dca29eb5f8"
   },
   "outputs": [],
   "source": [
    "scores"
   ]
  },
  {
   "cell_type": "markdown",
   "id": "e437ab94",
   "metadata": {
    "colab_type": "text",
    "id": "NIC2fwAknPf9"
   },
   "source": [
    "また、既に存在するキーを指定した場合には、値が上書きされます。"
   ]
  },
  {
   "cell_type": "code",
   "execution_count": null,
   "id": "7dfdde4f",
   "metadata": {
    "colab": {},
    "colab_type": "code",
    "id": "teLZbAHQnUfN"
   },
   "outputs": [],
   "source": [
    "scores['数学'] = 95"
   ]
  },
  {
   "cell_type": "code",
   "execution_count": null,
   "id": "44f84bd0",
   "metadata": {
    "colab": {
     "base_uri": "https://localhost:8080/",
     "height": 35
    },
    "colab_type": "code",
    "id": "kQESKoXgnYRN",
    "outputId": "1b2e3718-26d7-4d5e-fa90-e7fc4850795a"
   },
   "outputs": [],
   "source": [
    "scores"
   ]
  }
 ],
 "metadata": {
  "kernelspec": {
   "display_name": "Python 3",
   "language": "python",
   "name": "python3"
  },
  "language_info": {
   "codemirror_mode": {
    "name": "ipython",
    "version": 3
   },
   "file_extension": ".py",
   "mimetype": "text/x-python",
   "name": "python",
   "nbconvert_exporter": "python",
   "pygments_lexer": "ipython3",
   "version": "3.9.13"
  },
  "vscode": {
   "interpreter": {
    "hash": "ecfa4e302b7607fa496cb9db9d32610bd00ed1bfe39386c5ce0408823d5ee60a"
   }
  }
 },
 "nbformat": 4,
 "nbformat_minor": 5
}
