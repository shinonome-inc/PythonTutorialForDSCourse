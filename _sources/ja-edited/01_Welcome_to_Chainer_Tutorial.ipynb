{
 "cells": [
  {
   "attachments": {},
   "cell_type": "markdown",
   "metadata": {
    "colab_type": "text",
    "id": "_CMW13uMBlpk"
   },
   "source": [
    "# はじめに\n",
    "\n",
    "本教材は [Chainer チュートリアル](https://tutorials.chainer.org/ja/) をベースに作成されています。\n"
   ]
  },
  {
   "attachments": {},
   "cell_type": "markdown",
   "metadata": {
    "colab_type": "text",
    "id": "TK3cXCQuBlpm"
   },
   "source": [
    "- 必要なもの\n",
    "  - Google アカウント（お持ちでない場合は、こちらからお作りください：[Google アカウントの作成](https://accounts.google.com/signup)）\n",
    "  - ウェブブラウザ（Google Colaboratory はほとんどの主要なブラウザで動作します。PC 版の Chrome と Firefox では動作が検証されています。）\n",
    "  - GitHub アカウント（課題の提出に使用します。）\n",
    "  - VSCode などのエディタ（課題のプログラムの実装に使用します。）"
   ]
  },
  {
   "cell_type": "markdown",
   "metadata": {
    "colab_type": "text",
    "id": "D3QflLv0qdiy"
   },
   "source": [
    "## Google Colaboratory の基本\n",
    "\n",
    "Google Colaboratory（以下 Colab ）は、クラウド上で [Jupyter Notebook](https://jupyter.org/)  環境を提供する Google のウェブサービスです。Jupyter Notebook はブラウザ上で主に以下のようなことが可能なオープンソースのウェブアプリケーションであり、データ分析の現場や研究、教育などで広く用いられています。\n",
    "\n",
    "- プログラムを実行と、その結果の確認\n",
    "- Markdown と呼ばれる文章を記述するためのマークアップ言語を使った、メモや解説などの記述の追加\n",
    "\n",
    "Colab では無料で GPU も使用することができますが、そのランタイムは**最大 12 時間**で消えてしまうため、長時間を要する処理などは別途環境を用意する必要があります。\n",
    "学びはじめのうちは、数分から数時間程度で終わる処理がほとんどであるため、気にする必要はありませんが、本格的に使っていく場合は有料のクラウドサービスを利用するなどして、環境を整えるようにしましょう。\n",
    "\n",
    "以降では、その基本的な使い方を説明します。"
   ]
  },
  {
   "attachments": {},
   "cell_type": "markdown",
   "metadata": {
    "colab_type": "text",
    "id": "SWEJAKWMBlpo"
   },
   "source": [
    "### 教材を Colab で開く\n",
    "\n",
    "このチュートリアルの右上のロケット 🚀 のボタンにカーソルを重ねると、「`Colab`」というリンクが表示されます。\n",
    "\n",
    "![colab](./images/01/colab_button.png)\n",
    "\n",
    "このリンクをクリックすると、ブラウザで見ている資料が、Colab 上で  Jupyter Notebook として開かれます。\n",
    "すると、チュートリアルの中で説明に用いられているコードを、**実際に実行して結果を確認することができます。**\n",
    "\n",
    "それでは、早速このページの右上に配置されている `Colab` ボタンを押して、このページを Colab で開いてみましょう。  \n",
    "すると、`Playground モード` という編集不可な状態でノートブックが Colab 上で開かれます。\n",
    "そこで、下図の位置にある `ドライブにコピー` というボタンを押して、自分の Google Drive 上にこのノートブックをコピーしてください。\n",
    "このボタンを押すと、コピーされたノートブックが自動的に開き、以降は内容に編集を加えたり、コードを実行したりすることができます。\n",
    "\n",
    "![copy to mydrive](images/01/01_04.png)\n",
    "\n",
    "この\n",
    "\n",
    "1. `Colab` ボタンから Colab へ移動\n",
    "2. 自分のドライブへノートブックをコピーする\n",
    "3. コードを実行しながら解説を読んでいく\n",
    "\n",
    "という手順が、本チュートリアルサイトのおすすめの利用方法です。"
   ]
  },
  {
   "cell_type": "markdown",
   "metadata": {
    "colab_type": "text",
    "id": "k4ak2UP9Blpp"
   },
   "source": [
    "## Colab の基本的な使い方\n",
    "\n",
    "Colab 上の Jupyter Notebook を以降、単に**ノートブック**と呼びます。  \n",
    "\n",
    "ノートブックは、複数の**セル**と呼ばれるブロックを持つことができます。\n",
    "新しいノートブックを作った直後では、何も書かれていないセルが一つだけ存在している状態になっています。\n",
    "セルの内側のどこかをクリックすると、そのセルを選択することができます。\n",
    "\n",
    "セルには、**コードセル**と**テキストセル**の 2 種類があります。\n",
    "**コードセル** は Python のコードを書き込み、実行するためのセルであり、**テキストセル**は、Markdown 形式で文章を書くためのセルです。\n",
    "\n",
    "それぞれのセルタイプについてもう少し詳しく説明をします。"
   ]
  },
  {
   "attachments": {},
   "cell_type": "markdown",
   "metadata": {
    "colab_type": "text",
    "id": "9hYkVljaBlpq"
   },
   "source": [
    "### コードセル\n",
    "\n",
    "コードセルは、Python のコードを書き込み、実行することができるセルです。\n",
    "実行するには、コードセルを選択した状態で、`Shift + Enter` を押します。\n",
    "試しに、下のセルを選択して、`Shift + Enter` を押してみてください。"
   ]
  },
  {
   "cell_type": "code",
   "execution_count": 1,
   "metadata": {
    "colab": {
     "base_uri": "https://localhost:8080/",
     "height": 35
    },
    "colab_type": "code",
    "id": "EaOJalpbBlpr",
    "outputId": "40291477-aa22-4151-da78-d2ae6d2eb627"
   },
   "outputs": [
    {
     "name": "stdout",
     "output_type": "stream",
     "text": [
      "Hello world!\n"
     ]
    }
   ],
   "source": [
    "print('Hello world!')"
   ]
  },
  {
   "attachments": {},
   "cell_type": "markdown",
   "metadata": {
    "colab_type": "text",
    "id": "8QsnHDylXQrb"
   },
   "source": [
    "すぐ下に、Hello world! という文字列が表示されました。\n",
    "上のセルに書き込まれているのは Python のコードで、与えられた文字列を表示する関数である `print()` に、`'Hello world!'` という文字列を渡しています。\n",
    "これを今実行したため、その結果が下に表示されています。\n",
    "\n",
    "プログラミング言語の Python については、[次の章](https://shinonome.io/PythonTutorialForDSCourse/ja-edited/02_01_Basics_of_Python_variable.html) でより詳しく解説します。"
   ]
  },
  {
   "attachments": {},
   "cell_type": "markdown",
   "metadata": {
    "colab_type": "text",
    "id": "f7vtQ2SmBlpx"
   },
   "source": [
    "### テキストセル\n",
    "\n",
    "テキストセルでは、Markdown 形式で記述された文章を扱います。\n",
    "試しに、このセルを**ダブルクリック**してみてください。\n",
    "テキストセルが編集モードになり、Markdown 形式で文章を装飾するための、先程までは表示されていなかった記号が見えるようになります。\n",
    "\n",
    "その状態で `Shift + Enter` を押してみましょう。  \n",
    "\n",
    "もとのレンダリングされた文章の表示に戻ります。"
   ]
  },
  {
   "cell_type": "markdown",
   "metadata": {
    "colab_type": "text",
    "id": "wEwqOW9bBlpy"
   },
   "source": [
    "### Colab から Google Drive を使う\n",
    "\n",
    "Google Drive というオンラインストレージサービスを Colab で開いたノートブックから利用することができます。\n",
    "ノートブック中でコードを実行して作成したファイルなどを保存したり、逆に Google Drive 上に保存されているデータを読み込んだりすることができます。\n",
    "\n",
    "Colab 上のノートブックから Google Drive を使うには、Colab 専用のツールを使って、`/content/drive` というパスに現在ログイン中の Google アカウントが持っている Google Drive のスペースをマウントします。"
   ]
  },
  {
   "cell_type": "code",
   "execution_count": 2,
   "metadata": {
    "colab": {},
    "colab_type": "code",
    "id": "TI3-V_gN3Ekr"
   },
   "outputs": [],
   "source": [
    "from google.colab import drive\n",
    "drive.mount('/content/drive')"
   ]
  },
  {
   "attachments": {},
   "cell_type": "markdown",
   "metadata": {},
   "source": [
    "このノートブックを Colab で開いて、上のコードセルを実行すると、以下のようなメッセージが表示されます。\n",
    "\n",
    "<img src=\"images/01/01_drive_1.png\" width=\"800\">\n",
    "\n",
    "「Google ドライブに接続」をクリックすると下図のウィンドウが表示されるので、どのアカウントの Google ドライブに接続するかを選択してください。\n",
    "\n",
    "<img src=\"images/01/01_drive_2.png\" width=\"600\">\n",
    "\n",
    "アカウントを選択すると、下図のウィンドウが表示されます。このウィンドウ下部の「許可」ボタンをクリックすることで\n",
    "Colab が Google ドライブにアクセスすることができるようになります。\n",
    "\n",
    "<img src=\"images/01/01_drive_3.png\" width=\"600\">\n",
    "\n",
    "**Mounted at /content/drive** と表示されたら、準備は完了です。\n",
    "\n",
    "以下のセルを実行して、自分の Google Drive が Colab からアクセス可能になっていることを確認してください。"
   ]
  },
  {
   "cell_type": "code",
   "execution_count": 3,
   "metadata": {
    "colab": {
     "base_uri": "https://localhost:8080/",
     "height": 35
    },
    "colab_type": "code",
    "id": "osShvuIQ3GFy",
    "outputId": "e244c570-af51-4af8-a9f1-5a68da0fa41b"
   },
   "outputs": [
    {
     "name": "stdout",
     "output_type": "stream",
     "text": [
      "'My Drive'\n"
     ]
    }
   ],
   "source": [
    "# 'My Drive'の表記が出ていればマウントがうまく行われています。\n",
    "!ls 'drive/'"
   ]
  },
  {
   "attachments": {},
   "cell_type": "markdown",
   "metadata": {
    "colab_type": "text",
    "id": "DbvFPwpova8M"
   },
   "source": [
    "上のセルで実行しているのは Python のプログラムではなく、シェルコマンドの一つです。\n",
    "Jupyter Notebook では、コードセル中で `!` が先頭に付いている行はシェルコマンドとして解釈されます。`!ls` は、次に続くディレクトリの中にあるファイルまたはディレクトリの一覧を表示せよ、という命令（コマンド）です。"
   ]
  },
  {
   "attachments": {},
   "cell_type": "markdown",
   "metadata": {
    "colab_type": "text",
    "id": "44vOyaBKEk3m"
   },
   "source": [
    "###  GPU を使用する\n",
    "\n",
    "GPU とは単純な多くの計算を同時に処理するハードウェアです。\n",
    "大規模なデータを分析したり深層学習モデルを学習したりする際は、GPU を使用することでプログラムの実行速度を高速化できます。\n",
    "\n",
    "Colab では GPU を無料で使用することができます。\n",
    "初期設定では GPU を使用しない設定となっているため、GPU を使用する場合は設定を変更する必要があります。\n",
    "\n",
    "GPU を使用する場合は、画面上部のタブの中の 「Runtime」 (または「ランタイム」) をクリックし、「Change runtime type」 (または「ランタイムのタイプを変更」)を選択します。  \n",
    "\n",
    "そして、下記の画像の様に 「Hardware accelerator」  (または「ハードウェアアクセラレータ」)を GPU に変更します。  \n",
    "\n",
    "![GPUの設定](images/01/01_08.png)\n",
    "\n",
    "これで Colab 上で GPU を使用できるようになりました。\n",
    "\n"
   ]
  },
  {
   "cell_type": "markdown",
   "metadata": {
    "colab_type": "text",
    "id": "jZNTuBQ54BSu"
   },
   "source": [
    "### Colab の便利なショートカット\n",
    "\n",
    "Colab を使用中に、セルのタイプの変更やセルの複製・追加などの操作をする場合は、メニューから該当する項目を選ぶ方法以外に、キーボードショートカットを利用する方法もあります。\n",
    "\n",
    "下記によく使う**ショートカットキー**をまとめておきます。\n",
    "多くのショートカットキーは**二段階**になっており、まず `Ctrl + M` を押してから、それぞれの機能によって異なるコマンドを入力する形になっています。\n",
    "\n",
    "| 説明                 | コマンド      |\n",
    "| -------------------- | ------------- |\n",
    "| Markdownモードへ変更 | Ctrl + M → M |\n",
    "| Codeモードへ変更     | Ctrl + M → Y |\n",
    "| セルの実行           | Shift + Enter |\n",
    "| セルを上に追加       | Ctrl + M → A |\n",
    "| セルを下に追加       | Ctrl + M → B |\n",
    "| セルのコピー         | Ctrl + M → C |\n",
    "| セルの貼り付け       | Ctrl + M → V |\n",
    "| セルの消去           | Ctrl + M → D |\n",
    "| コメントアウト       | Ctrl + /      |\n",
    "\n",
    "コメントアウトとは、コード中で実行時に無視したい行やコメントを選択した状態で行う操作です。\n",
    "Python では、`#` の後に続く文字列は全て、コメントとして無視され、実行時に評価されることはありません。"
   ]
  },
  {
   "cell_type": "markdown",
   "metadata": {
    "colab_type": "text",
    "id": "QoQHVO6rva8O"
   },
   "source": [
    "これで、チュートリアルの本編に入っていく準備が完了しました。次の章では、Python というプログラミング言語の基本について解説します。"
   ]
  }
 ],
 "metadata": {
  "colab": {
   "collapsed_sections": [],
   "name": "Chainer Tutorials : 01_Welcome_to_Chainer_Tutorial.ipynb",
   "provenance": [],
   "version": "0.3.2"
  },
  "kernelspec": {
   "display_name": "Python 3",
   "language": "python",
   "name": "python3"
  },
  "language_info": {
   "codemirror_mode": {
    "name": "ipython",
    "version": 3
   },
   "file_extension": ".py",
   "mimetype": "text/x-python",
   "name": "python",
   "nbconvert_exporter": "python",
   "pygments_lexer": "ipython3",
   "version": "3.9.13"
  },
  "vscode": {
   "interpreter": {
    "hash": "ecfa4e302b7607fa496cb9db9d32610bd00ed1bfe39386c5ce0408823d5ee60a"
   }
  }
 },
 "nbformat": 4,
 "nbformat_minor": 1
}
